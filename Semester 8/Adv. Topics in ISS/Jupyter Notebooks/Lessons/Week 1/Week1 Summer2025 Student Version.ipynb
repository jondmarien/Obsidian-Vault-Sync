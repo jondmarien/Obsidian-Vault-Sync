{
 "cells": [
  {
   "cell_type": "markdown",
   "id": "9cade7c8",
   "metadata": {},
   "source": [
    "## <p style=\"color:blue\"> Introduction to Jupyter Notebooks\n",
    "Jupyter notebooks serve as a powerful tool for integrating executable code, code outputs, and text within a single cohesive file. These notebooks operate directly in a web browser, and interestingly, they do not necessitate an internet connection (unless you’re using a Jupyter Hub).\n",
    "\n",
    "The **kernel** is the essential component responsible for executing your code. It acts as the bridge connecting the notebook interface (as you perceive it) to the computational resources on your local machine, where the actual code runs.\n",
    "\n",
    "### <p style=\"color:blue\"> Types of Cells\n",
    "\n",
    "Jupyter Notebooks offer two types of cells: **Markdown** (like this one) and **Code**. Typically, you won’t execute the Markdown cells; instead, you’ll read their content. However, when you encounter a code cell, you’ll instruct Jupyter to run the code lines it contains.\n",
    "\n",
    "Code cells are interpreted by the Python kernel. In other words, the Python interpreter executes whatever it recognizes as code within the cell.\n",
    "\n"
   ]
  },
  {
   "cell_type": "code",
   "execution_count": 65,
   "id": "6a921309",
   "metadata": {},
   "outputs": [],
   "source": [
    "# \"#\" in front of code is code annotation. The code is \n",
    "# not read by the computer.\n",
    "# You can run a cell by pressing shift-enter.\n"
   ]
  },
  {
   "cell_type": "markdown",
   "id": "8e0e85a8",
   "metadata": {},
   "source": [
    "### <p style=\"color:blue\"> Formatting Markdown\n",
    "Markdown is useful because it can be formatted using simple symbols. [Here's a full cheatsheet of markdown](https://github.com/adam-p/markdown-here/wiki/Markdown-Cheatsheet) for more tips, but the main syntax is below:\n",
    "* Bulleted lists are created using asterisks.\n",
    "* Numbered lists are created using numbers.\n",
    "* You can **bold** with two asterisks or underscores on either side (`**bold**`) or *italicize* with one asterisk or underscore (`*italicize*`)\n",
    "* Pound signs (#) create headers. More pound signs means a smaller header.\n"
   ]
  },
  {
   "cell_type": "markdown",
   "id": "f2b04f16",
   "metadata": {},
   "source": [
    "## <p style=\"color:red;\">Exercise 1:\n",
    "<p style=\"color:red;\">Create a new markdown cell and write first name in the format heading 1 and your family name in the format heading 2. Under your first and last name, add a new line with your student id. Make sure that your student id is bold.</p>\n",
    "\n"
   ]
  },
  {
   "cell_type": "code",
   "execution_count": null,
   "id": "770170b6",
   "metadata": {},
   "outputs": [],
   "source": []
  },
  {
   "cell_type": "markdown",
   "id": "e2cccd46",
   "metadata": {},
   "source": [
    "### <p style=\"color:blue\"> Automatic Code formatter\n",
    "nb_black is a simple extension for Jupyter Notebook and Jupyter Lab to beautify Python code automatically."
   ]
  },
  {
   "cell_type": "markdown",
   "id": "96c17b95",
   "metadata": {},
   "source": [
    "# <p style=\"color:blue\"> Introduction to Python "
   ]
  },
  {
   "cell_type": "markdown",
   "id": "2f68990b",
   "metadata": {},
   "source": [
    "### <p style=\"color:blue\"> Order of Operations in Python\n",
    "\n",
    "The order of operations is the same as in mathematics!\n",
    "\n",
    "| Symbol |    Operation   | Usage |\n",
    "|:------:|:--------------:|:-----:|\n",
    "|    +   |    Addition    |  20+5 |\n",
    "|    -   |   Subtraction  |  20-5 |\n",
    "|    *   | Multiplication |  20*5 |\n",
    "|    /   |    Division    |  20/5 |\n",
    "|   **   |    Exponent    | 20**5 |\n",
    "| %      |    Modulo      |  20%5 |\n",
    "\n",
    "Note:\n",
    "* If you want integer division, use // "
   ]
  },
  {
   "cell_type": "markdown",
   "id": "84fef9f3",
   "metadata": {},
   "source": [
    "### <p style=\"color:blue\"> Variables\n",
    "Variables enable us to store a value and come back to it later. They are defined with `name = value`. *Assignment is not the same thing as equality,* as in mathematics.\n",
    "\n",
    "### Types of Variables\n",
    "Variables can be different types. Python lets you change the type of variables (the function is in parentheses below), however, *you cannot combine types*.\n",
    "\n",
    "* Integers (`int`)\n",
    "* String (`str`): letters, numbers, symbols, spaces\n",
    "* Float (`float`): any number with a decimal point (floating point number)\n",
    "\n",
    "You can check what type your variable is by using `type(variable)`.\n",
    "\n",
    "If you ever need help using a function (e.g., `type`) in Jupyter Notebook, you can enter the function followed by a question mark or `help(function)`. For example, `type?` or `help(type)`.\n",
    "\n",
    "Jupyter will only show you the output of the last line of code that you run. Thankfully, you can wrap commands in other commands. For example, we could write `print(type(a))`, if we want to see the output of `type(a)`.\n",
    "\n"
   ]
  },
  {
   "cell_type": "code",
   "execution_count": 66,
   "id": "931387d0",
   "metadata": {},
   "outputs": [],
   "source": [
    "a = 5"
   ]
  },
  {
   "cell_type": "code",
   "execution_count": 67,
   "id": "78620f8a",
   "metadata": {},
   "outputs": [
    {
     "data": {
      "text/plain": [
       "int"
      ]
     },
     "execution_count": 67,
     "metadata": {},
     "output_type": "execute_result"
    }
   ],
   "source": [
    "type(a)"
   ]
  },
  {
   "cell_type": "code",
   "execution_count": 68,
   "id": "318b44b0",
   "metadata": {},
   "outputs": [
    {
     "name": "stdout",
     "output_type": "stream",
     "text": [
      "<class 'int'>\n"
     ]
    }
   ],
   "source": [
    "print(type(a))"
   ]
  },
  {
   "cell_type": "markdown",
   "id": "7b11db93",
   "metadata": {},
   "source": [
    "### <p style=\"color:blue\"> Object Mutability\n",
    "Reference: book Fluent Python, chapter 6: https://learning.oreilly.com/library/view/fluent-python-2nd/9781492056348/ch06.html#deep_x_shallow_copies"
   ]
  },
  {
   "cell_type": "code",
   "execution_count": 69,
   "id": "0c62f0d7",
   "metadata": {},
   "outputs": [
    {
     "name": "stdout",
     "output_type": "stream",
     "text": [
      "2158205394816\n",
      "2157697343360 \n",
      "\n",
      "2158205394816\n",
      "2158205034816\n"
     ]
    }
   ],
   "source": [
    "list_values = [1, 2, 3]  # creating a list\n",
    "set_values = (1, 2, 3)  # creating a tuple\n",
    "print(id(list_values))  # displays the unique identifier (memory address) \n",
    "# of the list\n",
    "print(id(set_values), \"\\n\")  # displays the unique identifier of the tuple\n",
    "\n",
    "list_values += [4, 5, 6]  # appends the elements [4, 5, 6] to the existing list\n",
    "set_values += (4, 5, 6)\n",
    "# attempts to append the elements (4, 5, 6) to the existing tuple set_values.\n",
    "# However, a new tuple and assigned to the name\n",
    "# because tuples are immutable (cannot be modified after creation).\n",
    "print(id(list_values))\n",
    "print(id(set_values))\n",
    "\n",
    "#Notice that the id is the same for the list but different for the tuple \n",
    "\n",
    "# In summary:\n",
    "\n",
    "# Lists are mutable (you can modify their contents), \n",
    "# while tuples are immutable (you cannot modify their contents \n",
    "# after creation).\n",
    "# The += operation works for lists (modifies the list in place), \n",
    "# but not for tuples.\n"
   ]
  },
  {
   "cell_type": "markdown",
   "id": "2432de9b",
   "metadata": {},
   "source": [
    "# <p style= color:blue>The Python Programming Language: Functions"
   ]
  },
  {
   "cell_type": "markdown",
   "id": "e5503e08",
   "metadata": {},
   "source": [
    "**`add_numbers`** is a function that takes two numbers and adds them together"
   ]
  },
  {
   "cell_type": "code",
   "execution_count": 70,
   "id": "a091baf2",
   "metadata": {},
   "outputs": [],
   "source": [
    "def add_numbers(x, y):\n",
    "    return x + y"
   ]
  },
  {
   "cell_type": "code",
   "execution_count": 71,
   "id": "30b454b9",
   "metadata": {},
   "outputs": [
    {
     "data": {
      "text/plain": [
       "3"
      ]
     },
     "execution_count": 71,
     "metadata": {},
     "output_type": "execute_result"
    }
   ],
   "source": [
    "add_numbers(1, 2)"
   ]
  },
  {
   "cell_type": "markdown",
   "id": "d4bbf33e",
   "metadata": {},
   "source": [
    "**add_numbers updated to take an optional 3rd parameter. Using print allows printing of multiple expressions within a single cell.**"
   ]
  },
  {
   "cell_type": "code",
   "execution_count": 72,
   "id": "5b8c7d95",
   "metadata": {},
   "outputs": [
    {
     "name": "stdout",
     "output_type": "stream",
     "text": [
      "3\n",
      "6\n"
     ]
    }
   ],
   "source": [
    "def add_numbers(x, y, z=None):  # z is an optional parameter\n",
    "    if z == None:\n",
    "        return x + y\n",
    "    else:\n",
    "        return x + y + z\n",
    "\n",
    "\n",
    "print(add_numbers(1, 2))\n",
    "\n",
    "print(add_numbers(1, 2, 3))"
   ]
  },
  {
   "cell_type": "markdown",
   "id": "5baed73d",
   "metadata": {},
   "source": [
    "# <p style= color:blue> Lambda comprehension\n",
    "<br>A lambda function is a small anonymous function. It is like inline coding. A lambda function can take any number of arguments, but can only have one expression.\n",
    "<br>\n",
    "Here's an example of lambda that takes in three parameters and adds the first two.\n",
    "    \n",
    "These little, concise functions are quite handy when you need to define small, one-time-use functions without explicitly naming them\n",
    "    \n",
    "The basic syntax is: lambda arguments: expression  \n",
    "\n",
    "Remember that lambda functions are limited to a single expression and cannot contain statements or complex logic."
   ]
  },
  {
   "cell_type": "code",
   "execution_count": 73,
   "id": "97adea2e",
   "metadata": {},
   "outputs": [],
   "source": [
    "my_function = lambda a, b, c: a + b"
   ]
  },
  {
   "cell_type": "code",
   "execution_count": 74,
   "id": "d3fafe37",
   "metadata": {},
   "outputs": [
    {
     "data": {
      "text/plain": [
       "3"
      ]
     },
     "execution_count": 74,
     "metadata": {},
     "output_type": "execute_result"
    }
   ],
   "source": [
    "my_function(1, 2, 3)"
   ]
  },
  {
   "cell_type": "markdown",
   "id": "f9890cfb",
   "metadata": {},
   "source": [
    "## <p style=\"color:red;\">Exercise 2:\n",
    "<p style=\"color:red;\"> a)Write a function that get a list of integers and append number 7 to the list. Print list values before and after calling function. \n",
    "<br> b) write a function that get a tuple of integeres and append number 7 to the tuple. Print the set values before and after calling function.)</p></br>"
   ]
  },
  {
   "cell_type": "markdown",
   "id": "19bc9dd2",
   "metadata": {},
   "source": [
    "### Part a solution"
   ]
  },
  {
   "cell_type": "code",
   "execution_count": null,
   "id": "dfeb56ed",
   "metadata": {},
   "outputs": [],
   "source": []
  },
  {
   "cell_type": "code",
   "execution_count": null,
   "id": "7c861f57",
   "metadata": {},
   "outputs": [],
   "source": []
  },
  {
   "cell_type": "markdown",
   "id": "b9692159",
   "metadata": {},
   "source": [
    "### Part b solution"
   ]
  },
  {
   "cell_type": "code",
   "execution_count": null,
   "id": "56d2984d",
   "metadata": {},
   "outputs": [],
   "source": []
  },
  {
   "cell_type": "code",
   "execution_count": null,
   "id": "5cda6cc3",
   "metadata": {},
   "outputs": [],
   "source": []
  },
  {
   "cell_type": "markdown",
   "id": "bdb54239",
   "metadata": {},
   "source": [
    "## <p style=\"color:red;\">Exercise 3:\n",
    "<p style=\"color:red;\">\n",
    "change the following function to a lamda function<br>\n",
    "def my_fun(a):<br>\n",
    "    &nbsp;&nbsp;&nbsp;&nbsp;return a**2<br>\n",
    "my_fun(4)<br>"
   ]
  },
  {
   "cell_type": "code",
   "execution_count": 75,
   "id": "33d8fda9",
   "metadata": {},
   "outputs": [],
   "source": [
    "#Solution\n"
   ]
  },
  {
   "cell_type": "markdown",
   "id": "2fd29d88",
   "metadata": {},
   "source": [
    "# <p style=color:blue> The Python Programming Language: Create random list\n",
    "    \n",
    "    \n",
    "%%time : Magic function that calculates the wall time that can be referred to as the total time required to execute that cell."
   ]
  },
  {
   "cell_type": "code",
   "execution_count": 76,
   "id": "2499f6cd",
   "metadata": {},
   "outputs": [
    {
     "name": "stdout",
     "output_type": "stream",
     "text": [
      "[61, 90, 20, 86, 93, 75, 98, 40, 43, 68, 27, 78, 73, 18, 90, 56, 0, 3, 56, 45, 92, 39, 85, 59, 98, 74, 52, 62, 48, 47, 87, 65, 48, 64, 64, 58, 72, 60, 25, 65, 77, 15, 4, 10, 53, 15, 41, 25, 18, 67, 58, 36, 84, 30, 12, 44, 52, 85, 13, 87, 29, 17, 96, 10, 86, 88, 6, 46, 95, 14, 6, 22, 55, 45, 26, 16, 44, 97, 67, 52, 50, 8, 58, 92, 6, 53, 53, 14, 59, 11, 66, 24, 62, 37, 90, 79, 59, 69, 98, 27, 34, 17, 51, 13, 97, 92, 58, 0, 16, 71, 83, 6, 54, 57, 100, 61, 23, 62, 76, 21, 94, 40, 87, 73, 91, 12, 21, 93, 4, 18, 23, 89, 75, 54, 24, 92, 41, 10, 23, 11, 37, 35, 29, 41, 65, 50, 48, 79, 57, 7, 62, 27, 79, 71, 16, 59, 62, 77, 100, 99, 74, 99, 35, 73, 31, 66, 97, 1, 83, 45, 96, 53, 71, 86, 8, 23, 80, 67, 27, 31, 22, 100, 90, 17, 82, 76, 77, 36, 48, 46, 46, 62, 70, 27, 37, 17, 57, 9, 91, 50, 61, 82, 71, 39, 67, 78, 86, 91, 13, 66, 50, 71, 60, 85, 96, 15, 66, 74, 50, 89, 25, 80, 6, 47, 73, 20, 56, 73, 2, 59, 28, 35, 54, 60, 49, 31, 42, 57, 22, 70, 38, 17, 85, 8, 55, 42, 2, 49, 17, 49, 45, 75, 5, 5, 94, 91, 94, 27, 48, 69, 10, 54, 93, 94, 56, 99, 17, 38, 41, 47, 6, 44, 16, 52, 41, 42, 98, 34, 96, 68, 15, 59, 93, 51, 57, 64, 42, 88, 85, 25, 96, 71, 19, 100, 2, 84, 22, 22, 64, 24, 32, 76, 86, 55, 60, 4, 26, 12, 88, 43, 84, 52, 53, 91, 70, 100, 12, 14, 64, 9, 52, 38, 69, 48, 89, 72, 38, 36, 49, 6, 10, 31, 27, 59, 52, 39, 12, 84, 47, 94, 24, 99, 33, 70, 67, 23, 92, 70, 68, 31, 27, 96, 10, 67, 39, 77, 7, 12, 11, 35, 62, 82, 17, 66, 22, 39, 29, 11, 21, 63, 78, 50, 97, 71, 72, 41, 18, 98, 0, 49, 34, 38, 34, 16, 34, 76, 57, 71, 54, 16, 63, 9, 51, 31, 53, 64, 59, 94, 14, 58, 76, 73, 69, 38, 79, 85, 19, 1, 31, 78, 51, 67, 83, 75, 92, 59, 38, 84, 93, 52, 60, 92, 2, 33, 54, 9, 77, 72, 71, 20, 72, 74, 85, 36, 37, 63, 96, 83, 100, 54, 12, 71, 13, 93, 25, 59, 60, 84, 31, 54, 74, 88, 18, 30, 20, 8, 46, 20, 41, 7, 57, 38, 21, 7, 56, 4, 53, 3, 53, 81, 60, 34, 12, 36, 55, 48, 94, 55, 13, 61, 13, 68, 67, 64, 37, 12, 44, 51, 54, 85, 16, 69, 99, 55, 83, 3, 94, 98, 19, 9, 63, 61, 92, 97, 84, 63, 58, 91, 78, 43, 54, 67, 19, 19, 96, 62, 59, 58, 44, 97, 83, 15, 65, 63, 26, 43, 30, 5, 37, 33, 1, 29, 35, 10, 40, 35, 0, 53, 87, 56, 60, 70, 76, 96, 61, 66, 10, 16, 7, 7, 18, 40, 14, 89, 12, 8, 37, 51, 31, 18, 100, 42, 65, 67, 64, 73, 68, 31, 3, 46, 3, 66, 25, 51, 59, 67, 25, 63, 53, 61, 85, 22, 78, 58, 37, 66, 71, 4, 64, 20, 87, 58, 27, 43, 40, 70, 53, 83, 80, 32, 92, 27, 12, 59, 93, 79, 99, 68, 70, 85, 8, 45, 49, 4, 61, 32, 59, 93, 91, 64, 53, 45, 53, 66, 81, 2, 78, 2, 13, 11, 34, 75, 32, 71, 91, 100, 18, 47, 5, 81, 96, 52, 64, 97, 27, 15, 79, 97, 84, 88, 40, 80, 57, 4, 25, 23, 0, 65, 83, 0, 30, 14, 80, 70, 23, 22, 35, 11, 100, 96, 23, 11, 54, 54, 10, 91, 98, 7, 89, 25, 89, 43, 39, 18, 93, 42, 14, 73, 79, 19, 34, 38, 61, 98, 74, 7, 22, 13, 39, 82, 21, 29, 19, 60, 58, 62, 47, 94, 45, 26, 2, 24, 31, 6, 84, 36, 57, 48, 22, 98, 23, 46, 12, 55, 40, 0, 78, 10, 96, 68, 99, 89, 32, 27, 22, 99, 73, 5, 12, 69, 13, 83, 100, 34, 40, 22, 3, 21, 45, 84, 31, 91, 66, 37, 64, 74, 74, 38, 10, 41, 16, 84, 6, 95, 18, 19, 52, 28, 21, 0, 59, 23, 27, 62, 73, 1, 53, 80, 67, 97, 70, 70, 68, 22, 93, 2, 92, 45, 40, 72, 13, 19, 27, 32, 91, 24, 36, 10, 48, 85, 43, 36, 53, 44, 43, 94, 5, 62, 42, 49, 25, 79, 46, 19, 53, 67, 60, 33, 48, 54, 69, 78, 96, 72, 29, 78, 54, 15, 74, 21, 22, 25, 0, 80, 18, 40, 41, 59, 99, 21, 45, 96, 48, 60, 38, 66, 93, 19, 55, 8, 99, 28, 43, 56, 87, 98, 41, 67, 75, 7, 60, 98, 17, 13, 13, 44, 97, 92, 62, 58, 89, 53, 30, 24, 51, 45, 49, 43, 90, 40, 64, 90, 59, 72, 82, 33, 90, 23, 99, 89, 54, 3, 61, 74, 14, 67, 55, 15, 19, 53, 80, 73, 55, 93, 78, 63, 8, 58, 53, 7, 82, 73, 40, 35, 73, 80, 16, 52, 3, 61, 78, 97, 52, 21, 34, 17, 17, 25, 66, 69, 76, 63, 62, 80, 76, 12, 54, 77, 97, 88, 80, 66, 93, 9, 49, 31, 55, 66, 28, 60, 35, 11, 36, 56, 67, 69, 72, 67, 42, 13, 27, 27, 66, 28, 10, 2, 56, 100, 35, 71, 14, 8, 25, 5, 40, 40, 65, 22, 67, 0, 87, 17, 74, 24, 38, 34, 67, 35, 75, 8, 45, 93, 48, 64, 39, 81, 66, 59, 74, 6]\n",
      "CPU times: total: 0 ns\n",
      "Wall time: 1 ms\n"
     ]
    }
   ],
   "source": [
    "%%time  \n",
    "#must be the first thing in the cell\n",
    "\n",
    "import random\n",
    "\n",
    "random_list = []\n",
    "for i in range(1000):\n",
    "    random_list.append(random.randint(0, 100))\n",
    "    \n",
    "#https://docs.python.org/3/library/random.html\n",
    "\n",
    "print(random_list)"
   ]
  },
  {
   "cell_type": "code",
   "execution_count": 77,
   "id": "9154a9c5",
   "metadata": {},
   "outputs": [
    {
     "name": "stdout",
     "output_type": "stream",
     "text": [
      "61\n",
      "90\n",
      "20\n",
      "86\n",
      "93\n",
      "75\n",
      "98\n",
      "40\n",
      "43\n",
      "68\n",
      "27\n",
      "78\n",
      "73\n",
      "18\n",
      "90\n",
      "56\n",
      "0\n",
      "3\n",
      "56\n",
      "45\n",
      "92\n",
      "39\n",
      "85\n",
      "59\n",
      "98\n",
      "74\n",
      "52\n",
      "62\n",
      "48\n",
      "47\n",
      "87\n",
      "65\n",
      "48\n",
      "64\n",
      "64\n",
      "58\n",
      "72\n",
      "60\n",
      "25\n",
      "65\n",
      "77\n",
      "15\n",
      "4\n",
      "10\n",
      "53\n",
      "15\n",
      "41\n",
      "25\n",
      "18\n",
      "67\n",
      "58\n",
      "36\n",
      "84\n",
      "30\n",
      "12\n",
      "44\n",
      "52\n",
      "85\n",
      "13\n",
      "87\n",
      "29\n",
      "17\n",
      "96\n",
      "10\n",
      "86\n",
      "88\n",
      "6\n",
      "46\n",
      "95\n",
      "14\n",
      "6\n",
      "22\n",
      "55\n",
      "45\n",
      "26\n",
      "16\n",
      "44\n",
      "97\n",
      "67\n",
      "52\n",
      "50\n",
      "8\n",
      "58\n",
      "92\n",
      "6\n",
      "53\n",
      "53\n",
      "14\n",
      "59\n",
      "11\n",
      "66\n",
      "24\n",
      "62\n",
      "37\n",
      "90\n",
      "79\n",
      "59\n",
      "69\n",
      "98\n",
      "27\n",
      "34\n",
      "17\n",
      "51\n",
      "13\n",
      "97\n",
      "92\n",
      "58\n",
      "0\n",
      "16\n",
      "71\n",
      "83\n",
      "6\n",
      "54\n",
      "57\n",
      "100\n",
      "61\n",
      "23\n",
      "62\n",
      "76\n",
      "21\n",
      "94\n",
      "40\n",
      "87\n",
      "73\n",
      "91\n",
      "12\n",
      "21\n",
      "93\n",
      "4\n",
      "18\n",
      "23\n",
      "89\n",
      "75\n",
      "54\n",
      "24\n",
      "92\n",
      "41\n",
      "10\n",
      "23\n",
      "11\n",
      "37\n",
      "35\n",
      "29\n",
      "41\n",
      "65\n",
      "50\n",
      "48\n",
      "79\n",
      "57\n",
      "7\n",
      "62\n",
      "27\n",
      "79\n",
      "71\n",
      "16\n",
      "59\n",
      "62\n",
      "77\n",
      "100\n",
      "99\n",
      "74\n",
      "99\n",
      "35\n",
      "73\n",
      "31\n",
      "66\n",
      "97\n",
      "1\n",
      "83\n",
      "45\n",
      "96\n",
      "53\n",
      "71\n",
      "86\n",
      "8\n",
      "23\n",
      "80\n",
      "67\n",
      "27\n",
      "31\n",
      "22\n",
      "100\n",
      "90\n",
      "17\n",
      "82\n",
      "76\n",
      "77\n",
      "36\n",
      "48\n",
      "46\n",
      "46\n",
      "62\n",
      "70\n",
      "27\n",
      "37\n",
      "17\n",
      "57\n",
      "9\n",
      "91\n",
      "50\n",
      "61\n",
      "82\n",
      "71\n",
      "39\n",
      "67\n",
      "78\n",
      "86\n",
      "91\n",
      "13\n",
      "66\n",
      "50\n",
      "71\n",
      "60\n",
      "85\n",
      "96\n",
      "15\n",
      "66\n",
      "74\n",
      "50\n",
      "89\n",
      "25\n",
      "80\n",
      "6\n",
      "47\n",
      "73\n",
      "20\n",
      "56\n",
      "73\n",
      "2\n",
      "59\n",
      "28\n",
      "35\n",
      "54\n",
      "60\n",
      "49\n",
      "31\n",
      "42\n",
      "57\n",
      "22\n",
      "70\n",
      "38\n",
      "17\n",
      "85\n",
      "8\n",
      "55\n",
      "42\n",
      "2\n",
      "49\n",
      "17\n",
      "49\n",
      "45\n",
      "75\n",
      "5\n",
      "5\n",
      "94\n",
      "91\n",
      "94\n",
      "27\n",
      "48\n",
      "69\n",
      "10\n",
      "54\n",
      "93\n",
      "94\n",
      "56\n",
      "99\n",
      "17\n",
      "38\n",
      "41\n",
      "47\n",
      "6\n",
      "44\n",
      "16\n",
      "52\n",
      "41\n",
      "42\n",
      "98\n",
      "34\n",
      "96\n",
      "68\n",
      "15\n",
      "59\n",
      "93\n",
      "51\n",
      "57\n",
      "64\n",
      "42\n",
      "88\n",
      "85\n",
      "25\n",
      "96\n",
      "71\n",
      "19\n",
      "100\n",
      "2\n",
      "84\n",
      "22\n",
      "22\n",
      "64\n",
      "24\n",
      "32\n",
      "76\n",
      "86\n",
      "55\n",
      "60\n",
      "4\n",
      "26\n",
      "12\n",
      "88\n",
      "43\n",
      "84\n",
      "52\n",
      "53\n",
      "91\n",
      "70\n",
      "100\n",
      "12\n",
      "14\n",
      "64\n",
      "9\n",
      "52\n",
      "38\n",
      "69\n",
      "48\n",
      "89\n",
      "72\n",
      "38\n",
      "36\n",
      "49\n",
      "6\n",
      "10\n",
      "31\n",
      "27\n",
      "59\n",
      "52\n",
      "39\n",
      "12\n",
      "84\n",
      "47\n",
      "94\n",
      "24\n",
      "99\n",
      "33\n",
      "70\n",
      "67\n",
      "23\n",
      "92\n",
      "70\n",
      "68\n",
      "31\n",
      "27\n",
      "96\n",
      "10\n",
      "67\n",
      "39\n",
      "77\n",
      "7\n",
      "12\n",
      "11\n",
      "35\n",
      "62\n",
      "82\n",
      "17\n",
      "66\n",
      "22\n",
      "39\n",
      "29\n",
      "11\n",
      "21\n",
      "63\n",
      "78\n",
      "50\n",
      "97\n",
      "71\n",
      "72\n",
      "41\n",
      "18\n",
      "98\n",
      "0\n",
      "49\n",
      "34\n",
      "38\n",
      "34\n",
      "16\n",
      "34\n",
      "76\n",
      "57\n",
      "71\n",
      "54\n",
      "16\n",
      "63\n",
      "9\n",
      "51\n",
      "31\n",
      "53\n",
      "64\n",
      "59\n",
      "94\n",
      "14\n",
      "58\n",
      "76\n",
      "73\n",
      "69\n",
      "38\n",
      "79\n",
      "85\n",
      "19\n",
      "1\n",
      "31\n",
      "78\n",
      "51\n",
      "67\n",
      "83\n",
      "75\n",
      "92\n",
      "59\n",
      "38\n",
      "84\n",
      "93\n",
      "52\n",
      "60\n",
      "92\n",
      "2\n",
      "33\n",
      "54\n",
      "9\n",
      "77\n",
      "72\n",
      "71\n",
      "20\n",
      "72\n",
      "74\n",
      "85\n",
      "36\n",
      "37\n",
      "63\n",
      "96\n",
      "83\n",
      "100\n",
      "54\n",
      "12\n",
      "71\n",
      "13\n",
      "93\n",
      "25\n",
      "59\n",
      "60\n",
      "84\n",
      "31\n",
      "54\n",
      "74\n",
      "88\n",
      "18\n",
      "30\n",
      "20\n",
      "8\n",
      "46\n",
      "20\n",
      "41\n",
      "7\n",
      "57\n",
      "38\n",
      "21\n",
      "7\n",
      "56\n",
      "4\n",
      "53\n",
      "3\n",
      "53\n",
      "81\n",
      "60\n",
      "34\n",
      "12\n",
      "36\n",
      "55\n",
      "48\n",
      "94\n",
      "55\n",
      "13\n",
      "61\n",
      "13\n",
      "68\n",
      "67\n",
      "64\n",
      "37\n",
      "12\n",
      "44\n",
      "51\n",
      "54\n",
      "85\n",
      "16\n",
      "69\n",
      "99\n",
      "55\n",
      "83\n",
      "3\n",
      "94\n",
      "98\n",
      "19\n",
      "9\n",
      "63\n",
      "61\n",
      "92\n",
      "97\n",
      "84\n",
      "63\n",
      "58\n",
      "91\n",
      "78\n",
      "43\n",
      "54\n",
      "67\n",
      "19\n",
      "19\n",
      "96\n",
      "62\n",
      "59\n",
      "58\n",
      "44\n",
      "97\n",
      "83\n",
      "15\n",
      "65\n",
      "63\n",
      "26\n",
      "43\n",
      "30\n",
      "5\n",
      "37\n",
      "33\n",
      "1\n",
      "29\n",
      "35\n",
      "10\n",
      "40\n",
      "35\n",
      "0\n",
      "53\n",
      "87\n",
      "56\n",
      "60\n",
      "70\n",
      "76\n",
      "96\n",
      "61\n",
      "66\n",
      "10\n",
      "16\n",
      "7\n",
      "7\n",
      "18\n",
      "40\n",
      "14\n",
      "89\n",
      "12\n",
      "8\n",
      "37\n",
      "51\n",
      "31\n",
      "18\n",
      "100\n",
      "42\n",
      "65\n",
      "67\n",
      "64\n",
      "73\n",
      "68\n",
      "31\n",
      "3\n",
      "46\n",
      "3\n",
      "66\n",
      "25\n",
      "51\n",
      "59\n",
      "67\n",
      "25\n",
      "63\n",
      "53\n",
      "61\n",
      "85\n",
      "22\n",
      "78\n",
      "58\n",
      "37\n",
      "66\n",
      "71\n",
      "4\n",
      "64\n",
      "20\n",
      "87\n",
      "58\n",
      "27\n",
      "43\n",
      "40\n",
      "70\n",
      "53\n",
      "83\n",
      "80\n",
      "32\n",
      "92\n",
      "27\n",
      "12\n",
      "59\n",
      "93\n",
      "79\n",
      "99\n",
      "68\n",
      "70\n",
      "85\n",
      "8\n",
      "45\n",
      "49\n",
      "4\n",
      "61\n",
      "32\n",
      "59\n",
      "93\n",
      "91\n",
      "64\n",
      "53\n",
      "45\n",
      "53\n",
      "66\n",
      "81\n",
      "2\n",
      "78\n",
      "2\n",
      "13\n",
      "11\n",
      "34\n",
      "75\n",
      "32\n",
      "71\n",
      "91\n",
      "100\n",
      "18\n",
      "47\n",
      "5\n",
      "81\n",
      "96\n",
      "52\n",
      "64\n",
      "97\n",
      "27\n",
      "15\n",
      "79\n",
      "97\n",
      "84\n",
      "88\n",
      "40\n",
      "80\n",
      "57\n",
      "4\n",
      "25\n",
      "23\n",
      "0\n",
      "65\n",
      "83\n",
      "0\n",
      "30\n",
      "14\n",
      "80\n",
      "70\n",
      "23\n",
      "22\n",
      "35\n",
      "11\n",
      "100\n",
      "96\n",
      "23\n",
      "11\n",
      "54\n",
      "54\n",
      "10\n",
      "91\n",
      "98\n",
      "7\n",
      "89\n",
      "25\n",
      "89\n",
      "43\n",
      "39\n",
      "18\n",
      "93\n",
      "42\n",
      "14\n",
      "73\n",
      "79\n",
      "19\n",
      "34\n",
      "38\n",
      "61\n",
      "98\n",
      "74\n",
      "7\n",
      "22\n",
      "13\n",
      "39\n",
      "82\n",
      "21\n",
      "29\n",
      "19\n",
      "60\n",
      "58\n",
      "62\n",
      "47\n",
      "94\n",
      "45\n",
      "26\n",
      "2\n",
      "24\n",
      "31\n",
      "6\n",
      "84\n",
      "36\n",
      "57\n",
      "48\n",
      "22\n",
      "98\n",
      "23\n",
      "46\n",
      "12\n",
      "55\n",
      "40\n",
      "0\n",
      "78\n",
      "10\n",
      "96\n",
      "68\n",
      "99\n",
      "89\n",
      "32\n",
      "27\n",
      "22\n",
      "99\n",
      "73\n",
      "5\n",
      "12\n",
      "69\n",
      "13\n",
      "83\n",
      "100\n",
      "34\n",
      "40\n",
      "22\n",
      "3\n",
      "21\n",
      "45\n",
      "84\n",
      "31\n",
      "91\n",
      "66\n",
      "37\n",
      "64\n",
      "74\n",
      "74\n",
      "38\n",
      "10\n",
      "41\n",
      "16\n",
      "84\n",
      "6\n",
      "95\n",
      "18\n",
      "19\n",
      "52\n",
      "28\n",
      "21\n",
      "0\n",
      "59\n",
      "23\n",
      "27\n",
      "62\n",
      "73\n",
      "1\n",
      "53\n",
      "80\n",
      "67\n",
      "97\n",
      "70\n",
      "70\n",
      "68\n",
      "22\n",
      "93\n",
      "2\n",
      "92\n",
      "45\n",
      "40\n",
      "72\n",
      "13\n",
      "19\n",
      "27\n",
      "32\n",
      "91\n",
      "24\n",
      "36\n",
      "10\n",
      "48\n",
      "85\n",
      "43\n",
      "36\n",
      "53\n",
      "44\n",
      "43\n",
      "94\n",
      "5\n",
      "62\n",
      "42\n",
      "49\n",
      "25\n",
      "79\n",
      "46\n",
      "19\n",
      "53\n",
      "67\n",
      "60\n",
      "33\n",
      "48\n",
      "54\n",
      "69\n",
      "78\n",
      "96\n",
      "72\n",
      "29\n",
      "78\n",
      "54\n",
      "15\n",
      "74\n",
      "21\n",
      "22\n",
      "25\n",
      "0\n",
      "80\n",
      "18\n",
      "40\n",
      "41\n",
      "59\n",
      "99\n",
      "21\n",
      "45\n",
      "96\n",
      "48\n",
      "60\n",
      "38\n",
      "66\n",
      "93\n",
      "19\n",
      "55\n",
      "8\n",
      "99\n",
      "28\n",
      "43\n",
      "56\n",
      "87\n",
      "98\n",
      "41\n",
      "67\n",
      "75\n",
      "7\n",
      "60\n",
      "98\n",
      "17\n",
      "13\n",
      "13\n",
      "44\n",
      "97\n",
      "92\n",
      "62\n",
      "58\n",
      "89\n",
      "53\n",
      "30\n",
      "24\n",
      "51\n",
      "45\n",
      "49\n",
      "43\n",
      "90\n",
      "40\n",
      "64\n",
      "90\n",
      "59\n",
      "72\n",
      "82\n",
      "33\n",
      "90\n",
      "23\n",
      "99\n",
      "89\n",
      "54\n",
      "3\n",
      "61\n",
      "74\n",
      "14\n",
      "67\n",
      "55\n",
      "15\n",
      "19\n",
      "53\n",
      "80\n",
      "73\n",
      "55\n",
      "93\n",
      "78\n",
      "63\n",
      "8\n",
      "58\n",
      "53\n",
      "7\n",
      "82\n",
      "73\n",
      "40\n",
      "35\n",
      "73\n",
      "80\n",
      "16\n",
      "52\n",
      "3\n",
      "61\n",
      "78\n",
      "97\n",
      "52\n",
      "21\n",
      "34\n",
      "17\n",
      "17\n",
      "25\n",
      "66\n",
      "69\n",
      "76\n",
      "63\n",
      "62\n",
      "80\n",
      "76\n",
      "12\n",
      "54\n",
      "77\n",
      "97\n",
      "88\n",
      "80\n",
      "66\n",
      "93\n",
      "9\n",
      "49\n",
      "31\n",
      "55\n",
      "66\n",
      "28\n",
      "60\n",
      "35\n",
      "11\n",
      "36\n",
      "56\n",
      "67\n",
      "69\n",
      "72\n",
      "67\n",
      "42\n",
      "13\n",
      "27\n",
      "27\n",
      "66\n",
      "28\n",
      "10\n",
      "2\n",
      "56\n",
      "100\n",
      "35\n",
      "71\n",
      "14\n",
      "8\n",
      "25\n",
      "5\n",
      "40\n",
      "40\n",
      "65\n",
      "22\n",
      "67\n",
      "0\n",
      "87\n",
      "17\n",
      "74\n",
      "24\n",
      "38\n",
      "34\n",
      "67\n",
      "35\n",
      "75\n",
      "8\n",
      "45\n",
      "93\n",
      "48\n",
      "64\n",
      "39\n",
      "81\n",
      "66\n",
      "59\n",
      "74\n",
      "6\n"
     ]
    }
   ],
   "source": [
    "# iterate over list\n",
    "for i in random_list:\n",
    "    print(i)"
   ]
  },
  {
   "cell_type": "code",
   "execution_count": 78,
   "id": "754b75d8",
   "metadata": {},
   "outputs": [
    {
     "name": "stdout",
     "output_type": "stream",
     "text": [
      "61\n",
      "90\n",
      "20\n",
      "86\n",
      "93\n",
      "75\n",
      "98\n",
      "40\n",
      "43\n",
      "68\n",
      "27\n",
      "78\n",
      "73\n",
      "18\n",
      "90\n",
      "56\n",
      "0\n",
      "3\n",
      "56\n",
      "45\n",
      "92\n",
      "39\n",
      "85\n",
      "59\n",
      "98\n",
      "74\n",
      "52\n",
      "62\n",
      "48\n",
      "47\n",
      "87\n",
      "65\n",
      "48\n",
      "64\n",
      "64\n",
      "58\n",
      "72\n",
      "60\n",
      "25\n",
      "65\n",
      "77\n",
      "15\n",
      "4\n",
      "10\n",
      "53\n",
      "15\n",
      "41\n",
      "25\n",
      "18\n",
      "67\n",
      "58\n",
      "36\n",
      "84\n",
      "30\n",
      "12\n",
      "44\n",
      "52\n",
      "85\n",
      "13\n",
      "87\n",
      "29\n",
      "17\n",
      "96\n",
      "10\n",
      "86\n",
      "88\n",
      "6\n",
      "46\n",
      "95\n",
      "14\n",
      "6\n",
      "22\n",
      "55\n",
      "45\n",
      "26\n",
      "16\n",
      "44\n",
      "97\n",
      "67\n",
      "52\n",
      "50\n",
      "8\n",
      "58\n",
      "92\n",
      "6\n",
      "53\n",
      "53\n",
      "14\n",
      "59\n",
      "11\n",
      "66\n",
      "24\n",
      "62\n",
      "37\n",
      "90\n",
      "79\n",
      "59\n",
      "69\n",
      "98\n",
      "27\n",
      "34\n",
      "17\n",
      "51\n",
      "13\n",
      "97\n",
      "92\n",
      "58\n",
      "0\n",
      "16\n",
      "71\n",
      "83\n",
      "6\n",
      "54\n",
      "57\n",
      "100\n",
      "61\n",
      "23\n",
      "62\n",
      "76\n",
      "21\n",
      "94\n",
      "40\n",
      "87\n",
      "73\n",
      "91\n",
      "12\n",
      "21\n",
      "93\n",
      "4\n",
      "18\n",
      "23\n",
      "89\n",
      "75\n",
      "54\n",
      "24\n",
      "92\n",
      "41\n",
      "10\n",
      "23\n",
      "11\n",
      "37\n",
      "35\n",
      "29\n",
      "41\n",
      "65\n",
      "50\n",
      "48\n",
      "79\n",
      "57\n",
      "7\n",
      "62\n",
      "27\n",
      "79\n",
      "71\n",
      "16\n",
      "59\n",
      "62\n",
      "77\n",
      "100\n",
      "99\n",
      "74\n",
      "99\n",
      "35\n",
      "73\n",
      "31\n",
      "66\n",
      "97\n",
      "1\n",
      "83\n",
      "45\n",
      "96\n",
      "53\n",
      "71\n",
      "86\n",
      "8\n",
      "23\n",
      "80\n",
      "67\n",
      "27\n",
      "31\n",
      "22\n",
      "100\n",
      "90\n",
      "17\n",
      "82\n",
      "76\n",
      "77\n",
      "36\n",
      "48\n",
      "46\n",
      "46\n",
      "62\n",
      "70\n",
      "27\n",
      "37\n",
      "17\n",
      "57\n",
      "9\n",
      "91\n",
      "50\n",
      "61\n",
      "82\n",
      "71\n",
      "39\n",
      "67\n",
      "78\n",
      "86\n",
      "91\n",
      "13\n",
      "66\n",
      "50\n",
      "71\n",
      "60\n",
      "85\n",
      "96\n",
      "15\n",
      "66\n",
      "74\n",
      "50\n",
      "89\n",
      "25\n",
      "80\n",
      "6\n",
      "47\n",
      "73\n",
      "20\n",
      "56\n",
      "73\n",
      "2\n",
      "59\n",
      "28\n",
      "35\n",
      "54\n",
      "60\n",
      "49\n",
      "31\n",
      "42\n",
      "57\n",
      "22\n",
      "70\n",
      "38\n",
      "17\n",
      "85\n",
      "8\n",
      "55\n",
      "42\n",
      "2\n",
      "49\n",
      "17\n",
      "49\n",
      "45\n",
      "75\n",
      "5\n",
      "5\n",
      "94\n",
      "91\n",
      "94\n",
      "27\n",
      "48\n",
      "69\n",
      "10\n",
      "54\n",
      "93\n",
      "94\n",
      "56\n",
      "99\n",
      "17\n",
      "38\n",
      "41\n",
      "47\n",
      "6\n",
      "44\n",
      "16\n",
      "52\n",
      "41\n",
      "42\n",
      "98\n",
      "34\n",
      "96\n",
      "68\n",
      "15\n",
      "59\n",
      "93\n",
      "51\n",
      "57\n",
      "64\n",
      "42\n",
      "88\n",
      "85\n",
      "25\n",
      "96\n",
      "71\n",
      "19\n",
      "100\n",
      "2\n",
      "84\n",
      "22\n",
      "22\n",
      "64\n",
      "24\n",
      "32\n",
      "76\n",
      "86\n",
      "55\n",
      "60\n",
      "4\n",
      "26\n",
      "12\n",
      "88\n",
      "43\n",
      "84\n",
      "52\n",
      "53\n",
      "91\n",
      "70\n",
      "100\n",
      "12\n",
      "14\n",
      "64\n",
      "9\n",
      "52\n",
      "38\n",
      "69\n",
      "48\n",
      "89\n",
      "72\n",
      "38\n",
      "36\n",
      "49\n",
      "6\n",
      "10\n",
      "31\n",
      "27\n",
      "59\n",
      "52\n",
      "39\n",
      "12\n",
      "84\n",
      "47\n",
      "94\n",
      "24\n",
      "99\n",
      "33\n",
      "70\n",
      "67\n",
      "23\n",
      "92\n",
      "70\n",
      "68\n",
      "31\n",
      "27\n",
      "96\n",
      "10\n",
      "67\n",
      "39\n",
      "77\n",
      "7\n",
      "12\n",
      "11\n",
      "35\n",
      "62\n",
      "82\n",
      "17\n",
      "66\n",
      "22\n",
      "39\n",
      "29\n",
      "11\n",
      "21\n",
      "63\n",
      "78\n",
      "50\n",
      "97\n",
      "71\n",
      "72\n",
      "41\n",
      "18\n",
      "98\n",
      "0\n",
      "49\n",
      "34\n",
      "38\n",
      "34\n",
      "16\n",
      "34\n",
      "76\n",
      "57\n",
      "71\n",
      "54\n",
      "16\n",
      "63\n",
      "9\n",
      "51\n",
      "31\n",
      "53\n",
      "64\n",
      "59\n",
      "94\n",
      "14\n",
      "58\n",
      "76\n",
      "73\n",
      "69\n",
      "38\n",
      "79\n",
      "85\n",
      "19\n",
      "1\n",
      "31\n",
      "78\n",
      "51\n",
      "67\n",
      "83\n",
      "75\n",
      "92\n",
      "59\n",
      "38\n",
      "84\n",
      "93\n",
      "52\n",
      "60\n",
      "92\n",
      "2\n",
      "33\n",
      "54\n",
      "9\n",
      "77\n",
      "72\n",
      "71\n",
      "20\n",
      "72\n",
      "74\n",
      "85\n",
      "36\n",
      "37\n",
      "63\n",
      "96\n",
      "83\n",
      "100\n",
      "54\n",
      "12\n",
      "71\n",
      "13\n",
      "93\n",
      "25\n",
      "59\n",
      "60\n",
      "84\n",
      "31\n",
      "54\n",
      "74\n",
      "88\n",
      "18\n",
      "30\n",
      "20\n",
      "8\n",
      "46\n",
      "20\n",
      "41\n",
      "7\n",
      "57\n",
      "38\n",
      "21\n",
      "7\n",
      "56\n",
      "4\n",
      "53\n",
      "3\n",
      "53\n",
      "81\n",
      "60\n",
      "34\n",
      "12\n",
      "36\n",
      "55\n",
      "48\n",
      "94\n",
      "55\n",
      "13\n",
      "61\n",
      "13\n",
      "68\n",
      "67\n",
      "64\n",
      "37\n",
      "12\n",
      "44\n",
      "51\n",
      "54\n",
      "85\n",
      "16\n",
      "69\n",
      "99\n",
      "55\n",
      "83\n",
      "3\n",
      "94\n",
      "98\n",
      "19\n",
      "9\n",
      "63\n",
      "61\n",
      "92\n",
      "97\n",
      "84\n",
      "63\n",
      "58\n",
      "91\n",
      "78\n",
      "43\n",
      "54\n",
      "67\n",
      "19\n",
      "19\n",
      "96\n",
      "62\n",
      "59\n",
      "58\n",
      "44\n",
      "97\n",
      "83\n",
      "15\n",
      "65\n",
      "63\n",
      "26\n",
      "43\n",
      "30\n",
      "5\n",
      "37\n",
      "33\n",
      "1\n",
      "29\n",
      "35\n",
      "10\n",
      "40\n",
      "35\n",
      "0\n",
      "53\n",
      "87\n",
      "56\n",
      "60\n",
      "70\n",
      "76\n",
      "96\n",
      "61\n",
      "66\n",
      "10\n",
      "16\n",
      "7\n",
      "7\n",
      "18\n",
      "40\n",
      "14\n",
      "89\n",
      "12\n",
      "8\n",
      "37\n",
      "51\n",
      "31\n",
      "18\n",
      "100\n",
      "42\n",
      "65\n",
      "67\n",
      "64\n",
      "73\n",
      "68\n",
      "31\n",
      "3\n",
      "46\n",
      "3\n",
      "66\n",
      "25\n",
      "51\n",
      "59\n",
      "67\n",
      "25\n",
      "63\n",
      "53\n",
      "61\n",
      "85\n",
      "22\n",
      "78\n",
      "58\n",
      "37\n",
      "66\n",
      "71\n",
      "4\n",
      "64\n",
      "20\n",
      "87\n",
      "58\n",
      "27\n",
      "43\n",
      "40\n",
      "70\n",
      "53\n",
      "83\n",
      "80\n",
      "32\n",
      "92\n",
      "27\n",
      "12\n",
      "59\n",
      "93\n",
      "79\n",
      "99\n",
      "68\n",
      "70\n",
      "85\n",
      "8\n",
      "45\n",
      "49\n",
      "4\n",
      "61\n",
      "32\n",
      "59\n",
      "93\n",
      "91\n",
      "64\n",
      "53\n",
      "45\n",
      "53\n",
      "66\n",
      "81\n",
      "2\n",
      "78\n",
      "2\n",
      "13\n",
      "11\n",
      "34\n",
      "75\n",
      "32\n",
      "71\n",
      "91\n",
      "100\n",
      "18\n",
      "47\n",
      "5\n",
      "81\n",
      "96\n",
      "52\n",
      "64\n",
      "97\n",
      "27\n",
      "15\n",
      "79\n",
      "97\n",
      "84\n",
      "88\n",
      "40\n",
      "80\n",
      "57\n",
      "4\n",
      "25\n",
      "23\n",
      "0\n",
      "65\n",
      "83\n",
      "0\n",
      "30\n",
      "14\n",
      "80\n",
      "70\n",
      "23\n",
      "22\n",
      "35\n",
      "11\n",
      "100\n",
      "96\n",
      "23\n",
      "11\n",
      "54\n",
      "54\n",
      "10\n",
      "91\n",
      "98\n",
      "7\n",
      "89\n",
      "25\n",
      "89\n",
      "43\n",
      "39\n",
      "18\n",
      "93\n",
      "42\n",
      "14\n",
      "73\n",
      "79\n",
      "19\n",
      "34\n",
      "38\n",
      "61\n",
      "98\n",
      "74\n",
      "7\n",
      "22\n",
      "13\n",
      "39\n",
      "82\n",
      "21\n",
      "29\n",
      "19\n",
      "60\n",
      "58\n",
      "62\n",
      "47\n",
      "94\n",
      "45\n",
      "26\n",
      "2\n",
      "24\n",
      "31\n",
      "6\n",
      "84\n",
      "36\n",
      "57\n",
      "48\n",
      "22\n",
      "98\n",
      "23\n",
      "46\n",
      "12\n",
      "55\n",
      "40\n",
      "0\n",
      "78\n",
      "10\n",
      "96\n",
      "68\n",
      "99\n",
      "89\n",
      "32\n",
      "27\n",
      "22\n",
      "99\n",
      "73\n",
      "5\n",
      "12\n",
      "69\n",
      "13\n",
      "83\n",
      "100\n",
      "34\n",
      "40\n",
      "22\n",
      "3\n",
      "21\n",
      "45\n",
      "84\n",
      "31\n",
      "91\n",
      "66\n",
      "37\n",
      "64\n",
      "74\n",
      "74\n",
      "38\n",
      "10\n",
      "41\n",
      "16\n",
      "84\n",
      "6\n",
      "95\n",
      "18\n",
      "19\n",
      "52\n",
      "28\n",
      "21\n",
      "0\n",
      "59\n",
      "23\n",
      "27\n",
      "62\n",
      "73\n",
      "1\n",
      "53\n",
      "80\n",
      "67\n",
      "97\n",
      "70\n",
      "70\n",
      "68\n",
      "22\n",
      "93\n",
      "2\n",
      "92\n",
      "45\n",
      "40\n",
      "72\n",
      "13\n",
      "19\n",
      "27\n",
      "32\n",
      "91\n",
      "24\n",
      "36\n",
      "10\n",
      "48\n",
      "85\n",
      "43\n",
      "36\n",
      "53\n",
      "44\n",
      "43\n",
      "94\n",
      "5\n",
      "62\n",
      "42\n",
      "49\n",
      "25\n",
      "79\n",
      "46\n",
      "19\n",
      "53\n",
      "67\n",
      "60\n",
      "33\n",
      "48\n",
      "54\n",
      "69\n",
      "78\n",
      "96\n",
      "72\n",
      "29\n",
      "78\n",
      "54\n",
      "15\n",
      "74\n",
      "21\n",
      "22\n",
      "25\n",
      "0\n",
      "80\n",
      "18\n",
      "40\n",
      "41\n",
      "59\n",
      "99\n",
      "21\n",
      "45\n",
      "96\n",
      "48\n",
      "60\n",
      "38\n",
      "66\n",
      "93\n",
      "19\n",
      "55\n",
      "8\n",
      "99\n",
      "28\n",
      "43\n",
      "56\n",
      "87\n",
      "98\n",
      "41\n",
      "67\n",
      "75\n",
      "7\n",
      "60\n",
      "98\n",
      "17\n",
      "13\n",
      "13\n",
      "44\n",
      "97\n",
      "92\n",
      "62\n",
      "58\n",
      "89\n",
      "53\n",
      "30\n",
      "24\n",
      "51\n",
      "45\n",
      "49\n",
      "43\n",
      "90\n",
      "40\n",
      "64\n",
      "90\n",
      "59\n",
      "72\n",
      "82\n",
      "33\n",
      "90\n",
      "23\n",
      "99\n",
      "89\n",
      "54\n",
      "3\n",
      "61\n",
      "74\n",
      "14\n",
      "67\n",
      "55\n",
      "15\n",
      "19\n",
      "53\n",
      "80\n",
      "73\n",
      "55\n",
      "93\n",
      "78\n",
      "63\n",
      "8\n",
      "58\n",
      "53\n",
      "7\n",
      "82\n",
      "73\n",
      "40\n",
      "35\n",
      "73\n",
      "80\n",
      "16\n",
      "52\n",
      "3\n",
      "61\n",
      "78\n",
      "97\n",
      "52\n",
      "21\n",
      "34\n",
      "17\n",
      "17\n",
      "25\n",
      "66\n",
      "69\n",
      "76\n",
      "63\n",
      "62\n",
      "80\n",
      "76\n",
      "12\n",
      "54\n",
      "77\n",
      "97\n",
      "88\n",
      "80\n",
      "66\n",
      "93\n",
      "9\n",
      "49\n",
      "31\n",
      "55\n",
      "66\n",
      "28\n",
      "60\n",
      "35\n",
      "11\n",
      "36\n",
      "56\n",
      "67\n",
      "69\n",
      "72\n",
      "67\n",
      "42\n",
      "13\n",
      "27\n",
      "27\n",
      "66\n",
      "28\n",
      "10\n",
      "2\n",
      "56\n",
      "100\n",
      "35\n",
      "71\n",
      "14\n",
      "8\n",
      "25\n",
      "5\n",
      "40\n",
      "40\n",
      "65\n",
      "22\n",
      "67\n",
      "0\n",
      "87\n",
      "17\n",
      "74\n",
      "24\n",
      "38\n",
      "34\n",
      "67\n",
      "35\n",
      "75\n",
      "8\n",
      "45\n",
      "93\n",
      "48\n",
      "64\n",
      "39\n",
      "81\n",
      "66\n",
      "59\n",
      "74\n",
      "6\n"
     ]
    }
   ],
   "source": [
    "# iterate by index\n",
    "for i in range(len(random_list)):\n",
    "    print(random_list[i])"
   ]
  },
  {
   "cell_type": "code",
   "execution_count": 79,
   "id": "54b9d651",
   "metadata": {},
   "outputs": [
    {
     "name": "stdout",
     "output_type": "stream",
     "text": [
      "True\n"
     ]
    }
   ],
   "source": [
    "# check if a number is in the list\n",
    "if 65 in random_list:\n",
    "    print(\"True\")"
   ]
  },
  {
   "cell_type": "code",
   "execution_count": 80,
   "id": "5683b02e",
   "metadata": {},
   "outputs": [
    {
     "data": {
      "text/plain": [
       "[98, 40, 43, 68, 27, 78, 73, 18, 90, 56]"
      ]
     },
     "execution_count": 80,
     "metadata": {},
     "output_type": "execute_result"
    }
   ],
   "source": [
    "# You can call list items by list[first_index:last_index:step]\n",
    "# print list from index 6 to 16\n",
    "random_list[6:16]"
   ]
  },
  {
   "cell_type": "code",
   "execution_count": 81,
   "id": "6b79971a",
   "metadata": {},
   "outputs": [
    {
     "data": {
      "text/plain": [
       "[45, 93, 48, 64, 39, 81, 66, 59, 74, 6]"
      ]
     },
     "execution_count": 81,
     "metadata": {},
     "output_type": "execute_result"
    }
   ],
   "source": [
    "# print the last 10 item in the list\n",
    "random_list[-10:]"
   ]
  },
  {
   "cell_type": "code",
   "execution_count": 82,
   "id": "7204f3d5",
   "metadata": {},
   "outputs": [
    {
     "data": {
      "text/plain": [
       "[98, 43, 27, 73, 90]"
      ]
     },
     "execution_count": 82,
     "metadata": {},
     "output_type": "execute_result"
    }
   ],
   "source": [
    "# print the items 6 to 16, but even indexes\n",
    "random_list[6:16:2]"
   ]
  },
  {
   "cell_type": "markdown",
   "id": "af3b9121",
   "metadata": {},
   "source": [
    "# <p style=color:blue>  The Python Programming Language: Numerical Python (NumPy)"
   ]
  },
  {
   "cell_type": "code",
   "execution_count": 83,
   "id": "c83ed260",
   "metadata": {},
   "outputs": [],
   "source": [
    "import numpy as np"
   ]
  },
  {
   "cell_type": "markdown",
   "id": "fff10d2e",
   "metadata": {},
   "source": [
    "## <p style=color:blue> Creating Arrays"
   ]
  },
  {
   "cell_type": "markdown",
   "id": "3856aef2",
   "metadata": {},
   "source": [
    "**Create a list and convert it to a numpy array**"
   ]
  },
  {
   "cell_type": "code",
   "execution_count": 84,
   "id": "78c520e7",
   "metadata": {},
   "outputs": [
    {
     "data": {
      "text/plain": [
       "array([1, 2, 3])"
      ]
     },
     "execution_count": 84,
     "metadata": {},
     "output_type": "execute_result"
    }
   ],
   "source": [
    "mylist = [1, 2, 3]\n",
    "x = np.array(mylist)\n",
    "x"
   ]
  },
  {
   "cell_type": "markdown",
   "id": "54849b21",
   "metadata": {},
   "source": [
    "**Or just pass in a list directly**"
   ]
  },
  {
   "cell_type": "code",
   "execution_count": 85,
   "id": "5fce13bf",
   "metadata": {},
   "outputs": [
    {
     "data": {
      "text/plain": [
       "array([4, 5, 6])"
      ]
     },
     "execution_count": 85,
     "metadata": {},
     "output_type": "execute_result"
    }
   ],
   "source": [
    "y = np.array([4, 5, 6])\n",
    "y"
   ]
  },
  {
   "cell_type": "markdown",
   "id": "b23f963f",
   "metadata": {},
   "source": [
    "**Pass in a list of lists to create a multidimensional array.**"
   ]
  },
  {
   "cell_type": "code",
   "execution_count": 86,
   "id": "990b7df6",
   "metadata": {},
   "outputs": [
    {
     "data": {
      "text/plain": [
       "array([[ 7,  8,  9],\n",
       "       [10, 11, 12]])"
      ]
     },
     "execution_count": 86,
     "metadata": {},
     "output_type": "execute_result"
    }
   ],
   "source": [
    "m = np.array([[7, 8, 9], [10, 11, 12]])\n",
    "m"
   ]
  },
  {
   "cell_type": "markdown",
   "id": "afd6e492",
   "metadata": {},
   "source": [
    "**Use the shape method to find the dimensions of the array. (rows, columns)**"
   ]
  },
  {
   "cell_type": "code",
   "execution_count": 87,
   "id": "a47b951c",
   "metadata": {},
   "outputs": [
    {
     "data": {
      "text/plain": [
       "(2, 3)"
      ]
     },
     "execution_count": 87,
     "metadata": {},
     "output_type": "execute_result"
    }
   ],
   "source": [
    "m.shape"
   ]
  },
  {
   "cell_type": "markdown",
   "id": "327b2e22",
   "metadata": {},
   "source": [
    "**`arange` returns evenly spaced values within a given interval.**"
   ]
  },
  {
   "cell_type": "code",
   "execution_count": 88,
   "id": "4a1fac4e",
   "metadata": {},
   "outputs": [
    {
     "data": {
      "text/plain": [
       "array([ 0,  2,  4,  6,  8, 10, 12, 14, 16, 18, 20, 22, 24, 26, 28])"
      ]
     },
     "execution_count": 88,
     "metadata": {},
     "output_type": "execute_result"
    }
   ],
   "source": [
    "n = np.arange(0, 30, 2)  # start at 0 count up by 2, stop before 30\n",
    "n"
   ]
  },
  {
   "cell_type": "markdown",
   "id": "cb39437b",
   "metadata": {},
   "source": [
    "**`reshape` returns an array with the same data with a new shape.**"
   ]
  },
  {
   "cell_type": "code",
   "execution_count": 89,
   "id": "383f6d16",
   "metadata": {},
   "outputs": [
    {
     "data": {
      "text/plain": [
       "array([[ 0,  2,  4,  6,  8],\n",
       "       [10, 12, 14, 16, 18],\n",
       "       [20, 22, 24, 26, 28]])"
      ]
     },
     "execution_count": 89,
     "metadata": {},
     "output_type": "execute_result"
    }
   ],
   "source": [
    "n = n.reshape(3, 5)  # reshape array to be 3x5\n",
    "n"
   ]
  },
  {
   "cell_type": "markdown",
   "id": "0b3d80de",
   "metadata": {},
   "source": [
    "\n",
    "**`linspace` returns evenly spaced numbers over a specified interval.**"
   ]
  },
  {
   "cell_type": "code",
   "execution_count": 90,
   "id": "e912749a",
   "metadata": {},
   "outputs": [
    {
     "data": {
      "text/plain": [
       "array([0. , 0.5, 1. , 1.5, 2. , 2.5, 3. , 3.5, 4. ])"
      ]
     },
     "execution_count": 90,
     "metadata": {},
     "output_type": "execute_result"
    }
   ],
   "source": [
    "o = np.linspace(0, 4, 9)  # return 9 evenly spaced values from 0 to 4\n",
    "o"
   ]
  },
  {
   "cell_type": "markdown",
   "id": "9a191388",
   "metadata": {},
   "source": [
    "**`resize` changes the shape and size of array in-place.**"
   ]
  },
  {
   "cell_type": "code",
   "execution_count": 91,
   "id": "21ab7e3f",
   "metadata": {},
   "outputs": [
    {
     "data": {
      "text/plain": [
       "array([[0. , 0.5, 1. ],\n",
       "       [1.5, 2. , 2.5],\n",
       "       [3. , 3.5, 4. ]])"
      ]
     },
     "execution_count": 91,
     "metadata": {},
     "output_type": "execute_result"
    }
   ],
   "source": [
    "o.resize(3, 3)\n",
    "o"
   ]
  },
  {
   "cell_type": "markdown",
   "id": "78209087",
   "metadata": {},
   "source": [
    "**`ones` returns a new array of given shape and type, filled with ones.**"
   ]
  },
  {
   "cell_type": "code",
   "execution_count": 92,
   "id": "90b8f6d1",
   "metadata": {},
   "outputs": [
    {
     "data": {
      "text/plain": [
       "array([[1., 1.],\n",
       "       [1., 1.],\n",
       "       [1., 1.]])"
      ]
     },
     "execution_count": 92,
     "metadata": {},
     "output_type": "execute_result"
    }
   ],
   "source": [
    "np.ones((3, 2))"
   ]
  },
  {
   "cell_type": "markdown",
   "id": "4c5742c2",
   "metadata": {},
   "source": [
    "**`zeros` returns a new array of given shape and type, filled with zeros.**"
   ]
  },
  {
   "cell_type": "code",
   "execution_count": 93,
   "id": "327012f1",
   "metadata": {},
   "outputs": [
    {
     "data": {
      "text/plain": [
       "array([[0., 0., 0.],\n",
       "       [0., 0., 0.]])"
      ]
     },
     "execution_count": 93,
     "metadata": {},
     "output_type": "execute_result"
    }
   ],
   "source": [
    "np.zeros((2, 3))"
   ]
  },
  {
   "cell_type": "markdown",
   "id": "0a07eac0",
   "metadata": {},
   "source": [
    "**`eye` returns a 2-D array with ones on the diagonal and zeros elsewhere.**"
   ]
  },
  {
   "cell_type": "code",
   "execution_count": 94,
   "id": "e595e561",
   "metadata": {},
   "outputs": [
    {
     "data": {
      "text/plain": [
       "array([[1., 0., 0.],\n",
       "       [0., 1., 0.],\n",
       "       [0., 0., 1.]])"
      ]
     },
     "execution_count": 94,
     "metadata": {},
     "output_type": "execute_result"
    }
   ],
   "source": [
    "np.eye(3)"
   ]
  },
  {
   "cell_type": "markdown",
   "id": "4dc60049",
   "metadata": {},
   "source": [
    "\n",
    "**`diag` extracts a diagonal or constructs a diagonal array.**"
   ]
  },
  {
   "cell_type": "code",
   "execution_count": 95,
   "id": "fb34fa0e",
   "metadata": {},
   "outputs": [
    {
     "data": {
      "text/plain": [
       "array([[4, 0, 0],\n",
       "       [0, 5, 0],\n",
       "       [0, 0, 6]])"
      ]
     },
     "execution_count": 95,
     "metadata": {},
     "output_type": "execute_result"
    }
   ],
   "source": [
    "np.diag(y)"
   ]
  },
  {
   "cell_type": "markdown",
   "id": "ae285721",
   "metadata": {},
   "source": [
    "**Create an array using repeating list**"
   ]
  },
  {
   "cell_type": "code",
   "execution_count": 96,
   "id": "ad4a46e3",
   "metadata": {},
   "outputs": [
    {
     "data": {
      "text/plain": [
       "array([1, 2, 3, 1, 2, 3, 1, 2, 3])"
      ]
     },
     "execution_count": 96,
     "metadata": {},
     "output_type": "execute_result"
    }
   ],
   "source": [
    "np.array([1, 2, 3] * 3)"
   ]
  },
  {
   "cell_type": "markdown",
   "id": "379c169f",
   "metadata": {},
   "source": [
    "**Repeat elements of an array using `repeat`.**"
   ]
  },
  {
   "cell_type": "code",
   "execution_count": 97,
   "id": "fb1f8ff2",
   "metadata": {},
   "outputs": [
    {
     "data": {
      "text/plain": [
       "array([1, 1, 1, 2, 2, 2, 3, 3, 3])"
      ]
     },
     "execution_count": 97,
     "metadata": {},
     "output_type": "execute_result"
    }
   ],
   "source": [
    "np.repeat([1, 2, 3], 3)"
   ]
  },
  {
   "cell_type": "markdown",
   "id": "c5ccb925",
   "metadata": {},
   "source": [
    "### Combining Arrays"
   ]
  },
  {
   "cell_type": "code",
   "execution_count": 98,
   "id": "9df962e4",
   "metadata": {},
   "outputs": [
    {
     "data": {
      "text/plain": [
       "array([[1, 1, 1],\n",
       "       [1, 1, 1]])"
      ]
     },
     "execution_count": 98,
     "metadata": {},
     "output_type": "execute_result"
    }
   ],
   "source": [
    "p = np.ones([2, 3], int)\n",
    "p"
   ]
  },
  {
   "cell_type": "markdown",
   "id": "0bfce365",
   "metadata": {},
   "source": [
    "**Use `vstack` to stack arrays in sequence vertically (row wise).**"
   ]
  },
  {
   "cell_type": "code",
   "execution_count": 99,
   "id": "b99cba23",
   "metadata": {},
   "outputs": [
    {
     "data": {
      "text/plain": [
       "array([[1, 1, 1],\n",
       "       [1, 1, 1],\n",
       "       [2, 2, 2],\n",
       "       [2, 2, 2]])"
      ]
     },
     "execution_count": 99,
     "metadata": {},
     "output_type": "execute_result"
    }
   ],
   "source": [
    "np.vstack([p, 2 * p])"
   ]
  },
  {
   "cell_type": "markdown",
   "id": "28591e17",
   "metadata": {},
   "source": [
    "**Use `hstack` to stack arrays in sequence horizontally (column wise).**"
   ]
  },
  {
   "cell_type": "code",
   "execution_count": 100,
   "id": "0e30e2c1",
   "metadata": {},
   "outputs": [
    {
     "data": {
      "text/plain": [
       "array([[1, 1, 1, 2, 2, 2],\n",
       "       [1, 1, 1, 2, 2, 2]])"
      ]
     },
     "execution_count": 100,
     "metadata": {},
     "output_type": "execute_result"
    }
   ],
   "source": [
    "np.hstack([p, 2 * p])"
   ]
  },
  {
   "cell_type": "markdown",
   "id": "a1fa3705",
   "metadata": {},
   "source": [
    "## <p style= color:blue> Numerical Operations on Arrays"
   ]
  },
  {
   "cell_type": "markdown",
   "id": "b9e832dd",
   "metadata": {},
   "source": [
    "Use `+`, `-`, `*`, `/` and `**` to perform element wise addition, subtraction, multiplication, division and power."
   ]
  },
  {
   "cell_type": "code",
   "execution_count": 101,
   "id": "5f08c71a",
   "metadata": {},
   "outputs": [
    {
     "name": "stdout",
     "output_type": "stream",
     "text": [
      "[5 7 9]\n",
      "[-3 -3 -3]\n"
     ]
    }
   ],
   "source": [
    "print(x + y)  # elementwise addition     [1 2 3] + [4 5 6] = [5  7  9]\n",
    "print(x - y)  # elementwise subtraction  [1 2 3] - [4 5 6] = [-3 -3 -3]"
   ]
  },
  {
   "cell_type": "code",
   "execution_count": 102,
   "id": "d34d364a",
   "metadata": {},
   "outputs": [
    {
     "name": "stdout",
     "output_type": "stream",
     "text": [
      "[ 4 10 18]\n",
      "[0.25 0.4  0.5 ]\n"
     ]
    }
   ],
   "source": [
    "print(x * y)  # elementwise multiplication  [1 2 3] * [4 5 6] = [4  10  18]\n",
    "print(x / y)  # elementwise divison         [1 2 3] / [4 5 6] = [0.25  0.4  0.5]"
   ]
  },
  {
   "cell_type": "code",
   "execution_count": 103,
   "id": "e6252ab0",
   "metadata": {},
   "outputs": [
    {
     "name": "stdout",
     "output_type": "stream",
     "text": [
      "[1 4 9]\n"
     ]
    }
   ],
   "source": [
    "print(x**2)  # elementwise power  [1 2 3] ^2 =  [1 4 9]"
   ]
  },
  {
   "cell_type": "markdown",
   "id": "a75c5798",
   "metadata": {},
   "source": [
    "<br>\n",
    "\n",
    "**Dot Product:**  \n",
    "\n",
    "$ \\begin{bmatrix}x_1 \\ x_2 \\ x_3\\end{bmatrix}\n",
    "\\cdot\n",
    "\\begin{bmatrix}y_1 \\\\ y_2 \\\\ y_3\\end{bmatrix}\n",
    "= x_1 y_1 + x_2 y_2 + x_3 y_3$\n",
    "\n",
    "<br>"
   ]
  },
  {
   "cell_type": "code",
   "execution_count": 104,
   "id": "03b72e9f",
   "metadata": {},
   "outputs": [
    {
     "data": {
      "text/plain": [
       "32"
      ]
     },
     "execution_count": 104,
     "metadata": {},
     "output_type": "execute_result"
    }
   ],
   "source": [
    "x.dot(y)  # dot product  1*4 + 2*5 + 3*6"
   ]
  },
  {
   "cell_type": "code",
   "execution_count": 107,
   "id": "6d33b1e5",
   "metadata": {},
   "outputs": [
    {
     "data": {
      "text/plain": [
       "array([[ 4,  5,  6],\n",
       "       [16, 25, 36]])"
      ]
     },
     "execution_count": 107,
     "metadata": {},
     "output_type": "execute_result"
    }
   ],
   "source": [
    "z = np.array([y, y**2])\n",
    "z"
   ]
  },
  {
   "cell_type": "code",
   "execution_count": 27,
   "id": "2eec0dbe",
   "metadata": {},
   "outputs": [
    {
     "data": {
      "text/plain": [
       "(2, 3)"
      ]
     },
     "execution_count": 27,
     "metadata": {},
     "output_type": "execute_result"
    }
   ],
   "source": [
    "z.shape"
   ]
  },
  {
   "cell_type": "code",
   "execution_count": 28,
   "id": "ecde157f",
   "metadata": {},
   "outputs": [
    {
     "data": {
      "text/plain": [
       "array([[ 4,  5,  6],\n",
       "       [16, 25, 36]])"
      ]
     },
     "execution_count": 28,
     "metadata": {},
     "output_type": "execute_result"
    }
   ],
   "source": [
    "z"
   ]
  },
  {
   "cell_type": "markdown",
   "id": "94253977",
   "metadata": {},
   "source": [
    "The shape of array `z` is `(2,3)` before transposing.\n",
    "\n",
    "\n",
    "\n"
   ]
  },
  {
   "cell_type": "markdown",
   "id": "afc71ad3",
   "metadata": {},
   "source": [
    "**Use `.T` to get the transpose**"
   ]
  },
  {
   "cell_type": "code",
   "execution_count": 29,
   "id": "78a367bc",
   "metadata": {},
   "outputs": [
    {
     "data": {
      "text/plain": [
       "array([[ 4, 16],\n",
       "       [ 5, 25],\n",
       "       [ 6, 36]])"
      ]
     },
     "execution_count": 29,
     "metadata": {},
     "output_type": "execute_result"
    }
   ],
   "source": [
    "z.T"
   ]
  },
  {
   "cell_type": "code",
   "execution_count": 30,
   "id": "16cebac8",
   "metadata": {},
   "outputs": [
    {
     "data": {
      "text/plain": [
       "(3, 2)"
      ]
     },
     "execution_count": 30,
     "metadata": {},
     "output_type": "execute_result"
    }
   ],
   "source": [
    "z.T.shape"
   ]
  },
  {
   "cell_type": "markdown",
   "id": "c5578805",
   "metadata": {},
   "source": [
    "The number of rows has swapped with the number of columns.\n",
    "\n",
    "\n",
    "<br>"
   ]
  },
  {
   "cell_type": "markdown",
   "id": "afc52eae",
   "metadata": {},
   "source": [
    "\n",
    "**Use `.dtype` to see the data type of the elements in the array.**"
   ]
  },
  {
   "cell_type": "code",
   "execution_count": 31,
   "id": "0ccde46a",
   "metadata": {},
   "outputs": [
    {
     "data": {
      "text/plain": [
       "dtype('int32')"
      ]
     },
     "execution_count": 31,
     "metadata": {},
     "output_type": "execute_result"
    }
   ],
   "source": [
    "z.dtype"
   ]
  },
  {
   "cell_type": "markdown",
   "id": "1d7e2fd5",
   "metadata": {},
   "source": [
    "<br>\n",
    "\n",
    "**Use `.astype` to cast to a specific type.**"
   ]
  },
  {
   "cell_type": "code",
   "execution_count": 32,
   "id": "6c0210ba",
   "metadata": {},
   "outputs": [
    {
     "data": {
      "text/plain": [
       "dtype('float32')"
      ]
     },
     "execution_count": 32,
     "metadata": {},
     "output_type": "execute_result"
    }
   ],
   "source": [
    "z = z.astype(\"f\")\n",
    "z.dtype"
   ]
  },
  {
   "cell_type": "markdown",
   "id": "366d8350",
   "metadata": {},
   "source": [
    "<br>\n",
    "\n",
    "\n",
    "\n",
    "### <p style=color:blue> Math Functions"
   ]
  },
  {
   "cell_type": "markdown",
   "id": "b2b85318",
   "metadata": {},
   "source": [
    "Numpy has many built in math functions that can be performed on arrays."
   ]
  },
  {
   "cell_type": "code",
   "execution_count": 33,
   "id": "a93605d3",
   "metadata": {},
   "outputs": [],
   "source": [
    "a = np.array([-4, -2, 1, 3, 5])"
   ]
  },
  {
   "cell_type": "code",
   "execution_count": 34,
   "id": "196acd39",
   "metadata": {},
   "outputs": [
    {
     "data": {
      "text/plain": [
       "3"
      ]
     },
     "execution_count": 34,
     "metadata": {},
     "output_type": "execute_result"
    }
   ],
   "source": [
    "a.sum()"
   ]
  },
  {
   "cell_type": "code",
   "execution_count": 35,
   "id": "2e0c415e",
   "metadata": {},
   "outputs": [
    {
     "data": {
      "text/plain": [
       "5"
      ]
     },
     "execution_count": 35,
     "metadata": {},
     "output_type": "execute_result"
    }
   ],
   "source": [
    "a.max()"
   ]
  },
  {
   "cell_type": "code",
   "execution_count": 36,
   "id": "336e8d7d",
   "metadata": {},
   "outputs": [
    {
     "data": {
      "text/plain": [
       "-4"
      ]
     },
     "execution_count": 36,
     "metadata": {},
     "output_type": "execute_result"
    }
   ],
   "source": [
    "a.min()"
   ]
  },
  {
   "cell_type": "markdown",
   "id": "bfc6541a",
   "metadata": {},
   "source": [
    "<br>\n",
    "\n",
    "**`argmax` and `argmin` return the index of the maximum and minimum values in the array.**"
   ]
  },
  {
   "cell_type": "code",
   "execution_count": 37,
   "id": "9cffa57a",
   "metadata": {},
   "outputs": [
    {
     "data": {
      "text/plain": [
       "4"
      ]
     },
     "execution_count": 37,
     "metadata": {},
     "output_type": "execute_result"
    }
   ],
   "source": [
    "a.argmax()"
   ]
  },
  {
   "cell_type": "code",
   "execution_count": 38,
   "id": "7ee2513e",
   "metadata": {},
   "outputs": [
    {
     "data": {
      "text/plain": [
       "0"
      ]
     },
     "execution_count": 38,
     "metadata": {},
     "output_type": "execute_result"
    }
   ],
   "source": [
    "a.argmin()"
   ]
  },
  {
   "cell_type": "code",
   "execution_count": null,
   "id": "b391b6ae",
   "metadata": {},
   "outputs": [],
   "source": []
  },
  {
   "cell_type": "code",
   "execution_count": 39,
   "id": "5be8d9a4",
   "metadata": {},
   "outputs": [
    {
     "data": {
      "text/plain": [
       "0.6"
      ]
     },
     "execution_count": 39,
     "metadata": {},
     "output_type": "execute_result"
    }
   ],
   "source": [
    "a.mean()"
   ]
  },
  {
   "cell_type": "code",
   "execution_count": 40,
   "id": "25a57093",
   "metadata": {},
   "outputs": [
    {
     "data": {
      "text/plain": [
       "3.2619012860600183"
      ]
     },
     "execution_count": 40,
     "metadata": {},
     "output_type": "execute_result"
    }
   ],
   "source": [
    "a.std()  # note that the numpy std function uses the equation for population std"
   ]
  },
  {
   "cell_type": "markdown",
   "id": "fb1c76f6",
   "metadata": {},
   "source": [
    "<br>\n",
    "\n",
    "### <p style=color:blue> Array Indexing / Slicing"
   ]
  },
  {
   "cell_type": "code",
   "execution_count": 41,
   "id": "83507dbc",
   "metadata": {},
   "outputs": [
    {
     "data": {
      "text/plain": [
       "array([  0,   1,   4,   9,  16,  25,  36,  49,  64,  81, 100, 121, 144])"
      ]
     },
     "execution_count": 41,
     "metadata": {},
     "output_type": "execute_result"
    }
   ],
   "source": [
    "s = np.arange(13) ** 2\n",
    "s"
   ]
  },
  {
   "cell_type": "markdown",
   "id": "c2da15d8",
   "metadata": {},
   "source": [
    "<br>\n",
    "\n",
    "**Use bracket notation to get the value at a specific index. Remember that indexing starts at 0.**"
   ]
  },
  {
   "cell_type": "code",
   "execution_count": 42,
   "id": "408ddccf",
   "metadata": {},
   "outputs": [
    {
     "data": {
      "text/plain": [
       "(0, 16, 144)"
      ]
     },
     "execution_count": 42,
     "metadata": {},
     "output_type": "execute_result"
    }
   ],
   "source": [
    "s[0], s[4], s[-1]"
   ]
  },
  {
   "cell_type": "markdown",
   "id": "7f963cba",
   "metadata": {},
   "source": [
    "<br>\n",
    "\n",
    "**Use `:` to indicate a range. `array[start:stop]`**\n",
    "\n",
    "\n",
    "**Leaving `start` or `stop` empty will default to the beginning/end of the array.**"
   ]
  },
  {
   "cell_type": "code",
   "execution_count": 43,
   "id": "66ce163b",
   "metadata": {},
   "outputs": [
    {
     "data": {
      "text/plain": [
       "array([ 1,  4,  9, 16])"
      ]
     },
     "execution_count": 43,
     "metadata": {},
     "output_type": "execute_result"
    }
   ],
   "source": [
    "s[1:5]"
   ]
  },
  {
   "cell_type": "markdown",
   "id": "dde781f2",
   "metadata": {},
   "source": [
    "**Use negatives to count from the back.**"
   ]
  },
  {
   "cell_type": "code",
   "execution_count": 44,
   "id": "bffb691a",
   "metadata": {},
   "outputs": [
    {
     "data": {
      "text/plain": [
       "array([ 81, 100, 121, 144])"
      ]
     },
     "execution_count": 44,
     "metadata": {},
     "output_type": "execute_result"
    }
   ],
   "source": [
    "s[-4:]"
   ]
  },
  {
   "cell_type": "markdown",
   "id": "bc441cc4",
   "metadata": {},
   "source": [
    "<br>\n",
    "\n",
    "**A second `:` can be used to indicate step-size. `array[start:stop:stepsize]`**\n",
    "\n",
    "Here we are starting 5th element from the end, and counting backwards by 2 until the beginning of the array is reached."
   ]
  },
  {
   "cell_type": "code",
   "execution_count": 45,
   "id": "8b0337d1",
   "metadata": {},
   "outputs": [
    {
     "data": {
      "text/plain": [
       "array([64, 36, 16,  4,  0])"
      ]
     },
     "execution_count": 45,
     "metadata": {},
     "output_type": "execute_result"
    }
   ],
   "source": [
    "s[-5::-2]"
   ]
  },
  {
   "cell_type": "markdown",
   "id": "6cefdcf8",
   "metadata": {},
   "source": [
    "\n",
    "**Let's look at a multidimensional array.**"
   ]
  },
  {
   "cell_type": "code",
   "execution_count": 46,
   "id": "e08a2d18",
   "metadata": {},
   "outputs": [
    {
     "data": {
      "text/plain": [
       "array([[ 0,  1,  2,  3,  4,  5],\n",
       "       [ 6,  7,  8,  9, 10, 11],\n",
       "       [12, 13, 14, 15, 16, 17],\n",
       "       [18, 19, 20, 21, 22, 23],\n",
       "       [24, 25, 26, 27, 28, 29],\n",
       "       [30, 31, 32, 33, 34, 35]])"
      ]
     },
     "execution_count": 46,
     "metadata": {},
     "output_type": "execute_result"
    }
   ],
   "source": [
    "r = np.arange(36)\n",
    "r.resize((6, 6))\n",
    "r"
   ]
  },
  {
   "cell_type": "markdown",
   "id": "75520bd6",
   "metadata": {},
   "source": [
    "Use bracket notation to slice: `array[row, column]`"
   ]
  },
  {
   "cell_type": "code",
   "execution_count": 47,
   "id": "4556ff01",
   "metadata": {},
   "outputs": [
    {
     "data": {
      "text/plain": [
       "14"
      ]
     },
     "execution_count": 47,
     "metadata": {},
     "output_type": "execute_result"
    }
   ],
   "source": [
    "r[2, 2]"
   ]
  },
  {
   "cell_type": "markdown",
   "id": "4714fc70",
   "metadata": {},
   "source": [
    "\n",
    "And use `:` to select a range of rows or columns"
   ]
  },
  {
   "cell_type": "code",
   "execution_count": 48,
   "id": "c002f8b4",
   "metadata": {},
   "outputs": [
    {
     "data": {
      "text/plain": [
       "array([21, 22, 23])"
      ]
     },
     "execution_count": 48,
     "metadata": {},
     "output_type": "execute_result"
    }
   ],
   "source": [
    "r[3, 3:6]"
   ]
  },
  {
   "cell_type": "markdown",
   "id": "6fb3a402",
   "metadata": {},
   "source": [
    "Here we are selecting all the rows up to (and not including) row 2, and all the columns up to (and not including) the last column."
   ]
  },
  {
   "cell_type": "code",
   "execution_count": 49,
   "id": "1363fabe",
   "metadata": {},
   "outputs": [
    {
     "data": {
      "text/plain": [
       "array([[ 0,  1,  2,  3,  4],\n",
       "       [ 6,  7,  8,  9, 10]])"
      ]
     },
     "execution_count": 49,
     "metadata": {},
     "output_type": "execute_result"
    }
   ],
   "source": [
    "r[:2, :-1]"
   ]
  },
  {
   "cell_type": "markdown",
   "id": "f884744b",
   "metadata": {},
   "source": [
    "<br>\n",
    "This is a slice of the last row, and only every other element."
   ]
  },
  {
   "cell_type": "code",
   "execution_count": 50,
   "id": "7c3bb154",
   "metadata": {},
   "outputs": [
    {
     "data": {
      "text/plain": [
       "array([30, 32, 34])"
      ]
     },
     "execution_count": 50,
     "metadata": {},
     "output_type": "execute_result"
    }
   ],
   "source": [
    "r[-1, ::2]"
   ]
  },
  {
   "cell_type": "markdown",
   "id": "026b774b",
   "metadata": {},
   "source": [
    "**We can also perform conditional indexing.**\n",
    "\n",
    "Here we are selecting values from the array that are greater than 30. (Also see `np.where`)"
   ]
  },
  {
   "cell_type": "code",
   "execution_count": 51,
   "id": "d1b5bc9b",
   "metadata": {},
   "outputs": [
    {
     "data": {
      "text/plain": [
       "array([31, 32, 33, 34, 35])"
      ]
     },
     "execution_count": 51,
     "metadata": {},
     "output_type": "execute_result"
    }
   ],
   "source": [
    "r[r > 30]"
   ]
  },
  {
   "cell_type": "markdown",
   "id": "dd69e5c0",
   "metadata": {},
   "source": [
    "<br>\n",
    "Here we are assigning all values in the array that are greater than 30 to the value of 30."
   ]
  },
  {
   "cell_type": "code",
   "execution_count": 52,
   "id": "fb521e81",
   "metadata": {},
   "outputs": [
    {
     "data": {
      "text/plain": [
       "array([[ 0,  1,  2,  3,  4,  5],\n",
       "       [ 6,  7,  8,  9, 10, 11],\n",
       "       [12, 13, 14, 15, 16, 17],\n",
       "       [18, 19, 20, 21, 22, 23],\n",
       "       [24, 25, 26, 27, 28, 29],\n",
       "       [30, 30, 30, 30, 30, 30]])"
      ]
     },
     "execution_count": 52,
     "metadata": {},
     "output_type": "execute_result"
    }
   ],
   "source": [
    "r[r > 30] = 30\n",
    "r"
   ]
  },
  {
   "cell_type": "markdown",
   "id": "64f4f48a",
   "metadata": {},
   "source": [
    "<br>\n",
    "\n",
    "## <p style=color:blue>  Copying Data"
   ]
  },
  {
   "cell_type": "markdown",
   "id": "f23b3569",
   "metadata": {},
   "source": [
    "<p style=color:purple> Be careful with copying and modifying arrays in NumPy!\n",
    "\n",
    "r2 is a slice of r"
   ]
  },
  {
   "cell_type": "code",
   "execution_count": 53,
   "id": "4b633e78",
   "metadata": {},
   "outputs": [
    {
     "data": {
      "text/plain": [
       "array([[ 0,  1,  2],\n",
       "       [ 6,  7,  8],\n",
       "       [12, 13, 14]])"
      ]
     },
     "execution_count": 53,
     "metadata": {},
     "output_type": "execute_result"
    }
   ],
   "source": [
    "r2 = r[:3, :3]\n",
    "r2"
   ]
  },
  {
   "cell_type": "markdown",
   "id": "9054fbd1",
   "metadata": {},
   "source": [
    "\n",
    "Set this slice's values to zero ([:] selects the entire array)"
   ]
  },
  {
   "cell_type": "code",
   "execution_count": 54,
   "id": "263f5780",
   "metadata": {},
   "outputs": [
    {
     "data": {
      "text/plain": [
       "array([[0, 0, 0],\n",
       "       [0, 0, 0],\n",
       "       [0, 0, 0]])"
      ]
     },
     "execution_count": 54,
     "metadata": {},
     "output_type": "execute_result"
    }
   ],
   "source": [
    "r2[:] = 0\n",
    "r2"
   ]
  },
  {
   "cell_type": "markdown",
   "id": "aa0dbc69",
   "metadata": {},
   "source": [
    "\n",
    "`r` has also been changed!"
   ]
  },
  {
   "cell_type": "code",
   "execution_count": 55,
   "id": "138c7219",
   "metadata": {},
   "outputs": [
    {
     "data": {
      "text/plain": [
       "array([[ 0,  0,  0,  3,  4,  5],\n",
       "       [ 0,  0,  0,  9, 10, 11],\n",
       "       [ 0,  0,  0, 15, 16, 17],\n",
       "       [18, 19, 20, 21, 22, 23],\n",
       "       [24, 25, 26, 27, 28, 29],\n",
       "       [30, 30, 30, 30, 30, 30]])"
      ]
     },
     "execution_count": 55,
     "metadata": {},
     "output_type": "execute_result"
    }
   ],
   "source": [
    "r"
   ]
  },
  {
   "cell_type": "markdown",
   "id": "57cba874",
   "metadata": {},
   "source": [
    "\n",
    "<p style=color:purple> To avoid this, use `r.copy` to create a copy that will not affect the original array"
   ]
  },
  {
   "cell_type": "code",
   "execution_count": 56,
   "id": "4a6422f0",
   "metadata": {},
   "outputs": [
    {
     "data": {
      "text/plain": [
       "array([[ 0,  0,  0,  3,  4,  5],\n",
       "       [ 0,  0,  0,  9, 10, 11],\n",
       "       [ 0,  0,  0, 15, 16, 17],\n",
       "       [18, 19, 20, 21, 22, 23],\n",
       "       [24, 25, 26, 27, 28, 29],\n",
       "       [30, 30, 30, 30, 30, 30]])"
      ]
     },
     "execution_count": 56,
     "metadata": {},
     "output_type": "execute_result"
    }
   ],
   "source": [
    "r_copy = r.copy()\n",
    "r_copy"
   ]
  },
  {
   "cell_type": "markdown",
   "id": "1a053d8c",
   "metadata": {},
   "source": [
    "\n",
    "**Now when r_copy is modified, r will not be changed.**"
   ]
  },
  {
   "cell_type": "code",
   "execution_count": 57,
   "id": "00b71a3b",
   "metadata": {},
   "outputs": [
    {
     "name": "stdout",
     "output_type": "stream",
     "text": [
      "[[10 10 10 10 10 10]\n",
      " [10 10 10 10 10 10]\n",
      " [10 10 10 10 10 10]\n",
      " [10 10 10 10 10 10]\n",
      " [10 10 10 10 10 10]\n",
      " [10 10 10 10 10 10]] \n",
      "\n",
      "[[ 0  0  0  3  4  5]\n",
      " [ 0  0  0  9 10 11]\n",
      " [ 0  0  0 15 16 17]\n",
      " [18 19 20 21 22 23]\n",
      " [24 25 26 27 28 29]\n",
      " [30 30 30 30 30 30]]\n"
     ]
    }
   ],
   "source": [
    "r_copy[:] = 10\n",
    "print(r_copy, \"\\n\")\n",
    "print(r)"
   ]
  },
  {
   "cell_type": "markdown",
   "id": "93a9afdf",
   "metadata": {},
   "source": [
    "\n",
    "### Iterating Over Arrays"
   ]
  },
  {
   "cell_type": "markdown",
   "id": "ff3f420c",
   "metadata": {},
   "source": [
    "Let's create a new 4 by 3 array of random numbers 0-9."
   ]
  },
  {
   "cell_type": "code",
   "execution_count": 58,
   "id": "d3fe216d",
   "metadata": {},
   "outputs": [
    {
     "data": {
      "text/plain": [
       "array([[2, 7, 7],\n",
       "       [3, 7, 4],\n",
       "       [8, 3, 6],\n",
       "       [8, 5, 9]])"
      ]
     },
     "execution_count": 58,
     "metadata": {},
     "output_type": "execute_result"
    }
   ],
   "source": [
    "test = np.random.randint(0, 10, (4, 3))\n",
    "test"
   ]
  },
  {
   "cell_type": "markdown",
   "id": "6ac00df3",
   "metadata": {},
   "source": [
    "\n",
    "#### Iterate by row:"
   ]
  },
  {
   "cell_type": "code",
   "execution_count": 59,
   "id": "fa7ee25f",
   "metadata": {},
   "outputs": [
    {
     "name": "stdout",
     "output_type": "stream",
     "text": [
      "[2 7 7]\n",
      "[3 7 4]\n",
      "[8 3 6]\n",
      "[8 5 9]\n"
     ]
    }
   ],
   "source": [
    "for row in test:\n",
    "    print(row)"
   ]
  },
  {
   "cell_type": "markdown",
   "id": "909d9874",
   "metadata": {},
   "source": [
    "\n",
    "#### Iterate by index:"
   ]
  },
  {
   "cell_type": "code",
   "execution_count": 60,
   "id": "84591e5a",
   "metadata": {},
   "outputs": [
    {
     "name": "stdout",
     "output_type": "stream",
     "text": [
      "[2 7 7]\n",
      "[3 7 4]\n",
      "[8 3 6]\n",
      "[8 5 9]\n"
     ]
    }
   ],
   "source": [
    "for i in range(len(test)):\n",
    "    print(test[i])"
   ]
  },
  {
   "cell_type": "markdown",
   "id": "d86fbc6d",
   "metadata": {},
   "source": [
    "#### Iterate by row and index:"
   ]
  },
  {
   "cell_type": "code",
   "execution_count": 61,
   "id": "40c83839",
   "metadata": {},
   "outputs": [
    {
     "name": "stdout",
     "output_type": "stream",
     "text": [
      "row 0 is [2 7 7]\n",
      "row 1 is [3 7 4]\n",
      "row 2 is [8 3 6]\n",
      "row 3 is [8 5 9]\n"
     ]
    }
   ],
   "source": [
    "for i, row in enumerate(test):\n",
    "    print(\"row\", i, \"is\", row)"
   ]
  },
  {
   "cell_type": "markdown",
   "id": "bde2d2ed",
   "metadata": {},
   "source": [
    "**Use `zip` to iterate over multiple iterables.**"
   ]
  },
  {
   "cell_type": "code",
   "execution_count": 62,
   "id": "c7c0f295",
   "metadata": {},
   "outputs": [
    {
     "data": {
      "text/plain": [
       "array([[ 4, 49, 49],\n",
       "       [ 9, 49, 16],\n",
       "       [64,  9, 36],\n",
       "       [64, 25, 81]])"
      ]
     },
     "execution_count": 62,
     "metadata": {},
     "output_type": "execute_result"
    }
   ],
   "source": [
    "test2 = test**2\n",
    "test2"
   ]
  },
  {
   "cell_type": "code",
   "execution_count": 63,
   "id": "8a1a3b5a",
   "metadata": {},
   "outputs": [
    {
     "name": "stdout",
     "output_type": "stream",
     "text": [
      "[2 7 7] + [ 4 49 49] = [ 6 56 56]\n",
      "[3 7 4] + [ 9 49 16] = [12 56 20]\n",
      "[8 3 6] + [64  9 36] = [72 12 42]\n",
      "[8 5 9] + [64 25 81] = [72 30 90]\n"
     ]
    }
   ],
   "source": [
    "for i, j in zip(test, test2):\n",
    "    print(i, \"+\", j, \"=\", i + j)"
   ]
  },
  {
   "cell_type": "markdown",
   "id": "7abf04e5",
   "metadata": {},
   "source": [
    "#### <p style=\"color:red;\"> Exersise 4:\n",
    "<p style=\"color:red;\"> a)Create a numpy array of 20 items all 1 and name it A<br> b)Rearrange it by 4 rows and 5 columns\n",
    "<br> c)Create a numpy array of 5 random numbers and name it B<br> d)Replace the last row of array A with B\n",
    "<br> e)Do dot multiple of A with B and save it in a new array called C<br> f)Print every row of the array C by iterating every row<br> "
   ]
  },
  {
   "cell_type": "code",
   "execution_count": null,
   "id": "f3808143",
   "metadata": {},
   "outputs": [],
   "source": []
  }
 ],
 "metadata": {
  "kernelspec": {
   "display_name": "Python 3",
   "language": "python",
   "name": "python3"
  },
  "language_info": {
   "codemirror_mode": {
    "name": "ipython",
    "version": 3
   },
   "file_extension": ".py",
   "mimetype": "text/x-python",
   "name": "python",
   "nbconvert_exporter": "python",
   "pygments_lexer": "ipython3",
   "version": "3.12.9"
  }
 },
 "nbformat": 4,
 "nbformat_minor": 5
}
