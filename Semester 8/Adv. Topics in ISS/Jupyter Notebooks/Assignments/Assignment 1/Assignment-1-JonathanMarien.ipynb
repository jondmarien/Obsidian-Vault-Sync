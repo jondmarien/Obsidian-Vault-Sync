{
 "cells": [
  {
   "cell_type": "markdown",
   "id": "f2b04f16",
   "metadata": {},
   "source": [
    "## <p style=\"color:red;\">Exercise 1:\n",
    "<p style=\"color:red;\">Create a new markdown cell and write first name in the format heading 1 and your family name in the format heading 2. Under your first and last name, add a new line with your student id. Make sure that your student id is bold.</p>\n",
    "\n"
   ]
  },
  {
   "cell_type": "markdown",
   "id": "6deb580f",
   "metadata": {},
   "source": [
    "### <span style=\"color:rgb(39, 190, 228);\">**Exercise 1 Solution**</span>"
   ]
  },
  {
   "cell_type": "markdown",
   "id": "886f7897",
   "metadata": {},
   "source": [
    "# <span style=\"color: #800080;\">Jonathan</span> \n",
    "## <span style=\"color: #A259C4;\">Marien</span>\n",
    "### <span style=\"color: #C49DDC;\">991476393</span>"
   ]
  },
  {
   "cell_type": "markdown",
   "id": "f9890cfb",
   "metadata": {},
   "source": [
    "## <p style=\"color:red;\">Exercise 2:\n",
    "<p style=\"color:red;\"> a)Write a function that get a list of integers and append number 7 to the list. Print list values before and after calling function. \n",
    "<br> b) write a function that get a tuple of integeres and append number 7 to the tuple. Print the set values before and after calling function.)</p></br>"
   ]
  },
  {
   "cell_type": "markdown",
   "id": "0943f4bc",
   "metadata": {},
   "source": [
    "### <span style=\"color:rgb(39, 190, 228);\">**Exercise 2 Solution**</span>"
   ]
  },
  {
   "cell_type": "markdown",
   "id": "19bc9dd2",
   "metadata": {},
   "source": [
    "#### <span style=\"color:rgb(128, 238, 246);\">**Part A Solution**</span>"
   ]
  },
  {
   "cell_type": "code",
   "execution_count": null,
   "id": "dfeb56ed",
   "metadata": {},
   "outputs": [],
   "source": [
    "## Exercise 2:\n",
    "### a)Write a function that get a list of integers and append number 7 to the list. Print list values before and after calling function. "
   ]
  },
  {
   "cell_type": "code",
   "execution_count": null,
   "id": "7c861f57",
   "metadata": {},
   "outputs": [
    {
     "name": "stdout",
     "output_type": "stream",
     "text": [
      "Before: [1, 2, 3, 4]\n",
      "After: [1, 2, 3, 4, 7]\n"
     ]
    }
   ],
   "source": [
    "def append_seven(int_list):\n",
    "    \"\"\"\n",
    "    Appends the integer 7 to the provided list.\n",
    "\n",
    "    Parameters:\n",
    "        int_list (list of int): The list to which the integer 7 will be appended.\n",
    "\n",
    "    Returns:\n",
    "        None. The input list is modified in place.\n",
    "    \"\"\"\n",
    "    int_list.append(7)\n",
    "\n",
    "my_list = [1, 2, 3, 4]\n",
    "print(\"Before:\", my_list)\n",
    "append_seven(my_list)\n",
    "print(\"After:\", my_list)"
   ]
  },
  {
   "cell_type": "markdown",
   "id": "b9692159",
   "metadata": {},
   "source": [
    "#### <span style=\"color:rgb(128, 238, 246);\">**Part B Solution**</span>"
   ]
  },
  {
   "cell_type": "code",
   "execution_count": null,
   "id": "56d2984d",
   "metadata": {},
   "outputs": [],
   "source": [
    "## Exercise 2:\n",
    "### b) write a function that get a tuple of integeres and append number 7 to the tuple. Print the set values before and after calling function.)"
   ]
  },
  {
   "cell_type": "code",
   "execution_count": null,
   "id": "5cda6cc3",
   "metadata": {},
   "outputs": [
    {
     "name": "stdout",
     "output_type": "stream",
     "text": [
      "Before: (1, 2, 3, 4)\n",
      "After: (1, 2, 3, 4, 7)\n"
     ]
    }
   ],
   "source": [
    "def append_seven_to_tuple(int_tuple):\n",
    "    \"\"\"\n",
    "    Appends the integer 7 to the end of a given tuple.\n",
    "\n",
    "    Parameters:\n",
    "        int_tuple (tuple): A tuple of integers.\n",
    "\n",
    "    Returns:\n",
    "        tuple: A new tuple with the number 7 added at the end.\n",
    "    \"\"\"\n",
    "    return int_tuple + (7,)\n",
    "\n",
    "# Tuples are immutable, so to \"add\" an element, create a new tuple with the additional value and reassign it.\n",
    "# This is done by concatenating the original tuple with another tuple containing the new element (e.g., 7).\n",
    "my_tuple = (1, 2, 3, 4)\n",
    "print(\"Before:\", my_tuple)\n",
    "my_tuple = append_seven_to_tuple(my_tuple)\n",
    "print(\"After:\", my_tuple)"
   ]
  },
  {
   "cell_type": "markdown",
   "id": "bdb54239",
   "metadata": {},
   "source": [
    "## <p style=\"color:red;\">Exercise 3:\n",
    "<p style=\"color:red;\">\n",
    "change the following function to a lamda function<br>\n",
    "def my_fun(a):<br>\n",
    "    &nbsp;&nbsp;&nbsp;&nbsp;return a**2<br>\n",
    "my_fun(4)<br>"
   ]
  },
  {
   "cell_type": "markdown",
   "id": "8a395965",
   "metadata": {},
   "source": [
    "### <span style=\"color: rgb(39, 190, 228);\">**Exercise 3 Solution**</span>"
   ]
  },
  {
   "cell_type": "code",
   "execution_count": null,
   "id": "33d8fda9",
   "metadata": {},
   "outputs": [
    {
     "data": {
      "text/plain": [
       "16"
      ]
     },
     "execution_count": 154,
     "metadata": {},
     "output_type": "execute_result"
    }
   ],
   "source": [
    "## Exercise 3: change the above function to be a lambda function\n",
    "my_fun = lambda a: a**2  # noqa: E731 - disables warnings about using def over lambda\n",
    "my_fun(4)"
   ]
  },
  {
   "cell_type": "markdown",
   "id": "7abf04e5",
   "metadata": {},
   "source": [
    "#### <p style=\"color:red;\"> Exersise 4:\n",
    "<p style=\"color:red;\"> a)Create a numpy array of 20 items all 1 and name it A<br> b)Rearrange it by 4 rows and 5 columns\n",
    "<br> c)Create a numpy array of 5 random numbers and name it B<br> d)Replace the last row of array A with B\n",
    "<br> e)Do dot multiple of A with B and save it in a new array called C<br> f)Print every row of the array C by iterating every row<br> "
   ]
  },
  {
   "cell_type": "markdown",
   "id": "b2ccba05",
   "metadata": {},
   "source": [
    "### <span style=\"color: rgb(39, 190, 228);\">**Exercise 4 Solution**</span>"
   ]
  },
  {
   "cell_type": "code",
   "execution_count": null,
   "id": "f3808143",
   "metadata": {},
   "outputs": [
    {
     "name": "stdout",
     "output_type": "stream",
     "text": [
      "[1. 1. 1. 1. 1. 1. 1. 1. 1. 1. 1. 1. 1. 1. 1. 1. 1. 1. 1. 1.]\n",
      "[[1. 1. 1. 1. 1.]\n",
      " [1. 1. 1. 1. 1.]\n",
      " [1. 1. 1. 1. 1.]\n",
      " [1. 1. 1. 1. 1.]]\n",
      "[0.61999696 0.60586357 0.37863709 0.36040259 0.61280988]\n",
      "[[1.         1.         1.         1.         1.        ]\n",
      " [1.         1.         1.         1.         1.        ]\n",
      " [1.         1.         1.         1.         1.        ]\n",
      " [0.61999696 0.60586357 0.37863709 0.36040259 0.61280988]]\n",
      "[2.57771009 2.57771009 2.57771009 1.40025891]\n",
      "2.5777100877550816\n",
      "2.5777100877550816\n",
      "2.5777100877550816\n",
      "1.4002589125872749\n"
     ]
    }
   ],
   "source": [
    "import numpy as np\n",
    "\n",
    "# a) Create a numpy array of 20 items all 1 and name it A\n",
    "A = np.ones(20)\n",
    "#print(A) -- test printing each step to make sure it works\n",
    "\n",
    "# b) Rearrange it by 4 rows and 5 columns\n",
    "A = A.reshape(4, 5)\n",
    "#print(A)\n",
    "\n",
    "# c) Create a numpy array of 5 random numbers and name it B\n",
    "B = np.random.rand(5)\n",
    "#print(B)\n",
    "\n",
    "# d) Replace the last row of array A with B\n",
    "A[-1] = B\n",
    "#print(A)\n",
    "\n",
    "# e) Do dot multiple of A with B and save it in a new array called C\n",
    "C = np.dot(A, B)\n",
    "#print(C)\n",
    "\n",
    "# f) Print every row of the array C by iterating every row\n",
    "for i in C:\n",
    "    print(i)\n"
   ]
  },
  {
   "cell_type": "code",
   "execution_count": null,
   "id": "2b2fb102",
   "metadata": {},
   "outputs": [
    {
     "data": {
      "text/plain": [
       "array([2.48746768, 2.48746768, 2.48746768, 2.48746768])"
      ]
     },
     "execution_count": 509,
     "metadata": {},
     "output_type": "execute_result"
    }
   ],
   "source": [
    "# Visualization of Exercise 4 -- without saving to variables\n",
    "import numpy as np\n",
    "\n",
    "# np.ones(20).reshape(4, 5)\n",
    "\n",
    "# np.random.rand(5)\n",
    "\n",
    "np.dot(np.ones(20).reshape(4, 5), np.random.rand(5))\n"
   ]
  }
 ],
 "metadata": {
  "kernelspec": {
   "display_name": "Python 3",
   "language": "python",
   "name": "python3"
  },
  "language_info": {
   "codemirror_mode": {
    "name": "ipython",
    "version": 3
   },
   "file_extension": ".py",
   "mimetype": "text/x-python",
   "name": "python",
   "nbconvert_exporter": "python",
   "pygments_lexer": "ipython3",
   "version": "3.12.9"
  }
 },
 "nbformat": 4,
 "nbformat_minor": 5
}
