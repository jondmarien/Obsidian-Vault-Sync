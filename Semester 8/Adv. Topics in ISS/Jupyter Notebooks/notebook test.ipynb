{
 "cells": [
  {
   "cell_type": "markdown",
   "id": "97b82024",
   "metadata": {},
   "source": [
    "<p style=\"font-size: 24px; color: red;\">This is my Jupyter notebook test.</p>"
   ]
  },
  {
   "cell_type": "code",
   "execution_count": null,
   "id": "43bbbe51",
   "metadata": {},
   "outputs": [],
   "source": [
    "# This is my Jupyter notebook test.\n",
    "# Header level 1\n",
    "## Header level 2\n",
    "### Header level 3\n",
    "#### Header level 4\n",
    "##### Header level 5\n",
    "###### Header level 6\n"
   ]
  }
 ],
 "metadata": {
  "kernelspec": {
   "display_name": "Python 3",
   "language": "python",
   "name": "python3"
  },
  "language_info": {
   "codemirror_mode": {
    "name": "ipython",
    "version": 3
   },
   "file_extension": ".py",
   "mimetype": "text/x-python",
   "name": "python",
   "nbconvert_exporter": "python",
   "pygments_lexer": "ipython3",
   "version": "3.12.9"
  }
 },
 "nbformat": 4,
 "nbformat_minor": 5
}
